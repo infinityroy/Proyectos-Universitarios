{
  "nbformat": 4,
  "nbformat_minor": 0,
  "metadata": {
    "colab": {
      "name": "TP04.ipynb",
      "provenance": [],
      "collapsed_sections": []
    },
    "kernelspec": {
      "name": "python3",
      "display_name": "Python 3"
    },
    "language_info": {
      "name": "python"
    }
  },
  "cells": [
    {
      "cell_type": "markdown",
      "source": [
        "### Instituto Tecnológico de Costa Rica (ITCR)\n",
        "### Escuela de Computación\n",
        "### Curso: Inteligencia Artificial\n",
        " \n",
        "### Cuarta tarea programada 2022-I\n",
        "\n",
        "Profesora: María Auxiliadora Mora"
      ],
      "metadata": {
        "id": "991CdpdI0D7C"
      }
    },
    {
      "cell_type": "markdown",
      "source": [
        "\n",
        "# Estudiantes\n",
        "Roy Chavarría Garita - 2018034199 \\\n",
        "Jonder Hernández Gutiérrez - 2018203660"
      ],
      "metadata": {
        "id": "nu3aGVRD0BMB"
      }
    },
    {
      "cell_type": "markdown",
      "source": [
        "# Sección 1. Clustering "
      ],
      "metadata": {
        "id": "8P7hEx1B3Bin"
      }
    },
    {
      "cell_type": "code",
      "source": [
        "# Para el xls de pandas\n",
        "!pip install --upgrade xlrd\n",
        "!pip install pyspark\n",
        "!pip install quinn"
      ],
      "metadata": {
        "colab": {
          "base_uri": "https://localhost:8080/"
        },
        "id": "5WNezmy_d2st",
        "outputId": "3f88eb0c-275b-4d36-b338-b249f726273e"
      },
      "execution_count": 20,
      "outputs": [
        {
          "output_type": "stream",
          "name": "stdout",
          "text": [
            "Looking in indexes: https://pypi.org/simple, https://us-python.pkg.dev/colab-wheels/public/simple/\n",
            "Requirement already satisfied: xlrd in /usr/local/lib/python3.7/dist-packages (2.0.1)\n",
            "Looking in indexes: https://pypi.org/simple, https://us-python.pkg.dev/colab-wheels/public/simple/\n",
            "Requirement already satisfied: pyspark in /usr/local/lib/python3.7/dist-packages (3.2.1)\n",
            "Requirement already satisfied: py4j==0.10.9.3 in /usr/local/lib/python3.7/dist-packages (from pyspark) (0.10.9.3)\n",
            "Looking in indexes: https://pypi.org/simple, https://us-python.pkg.dev/colab-wheels/public/simple/\n",
            "Requirement already satisfied: quinn in /usr/local/lib/python3.7/dist-packages (0.9.0)\n"
          ]
        }
      ]
    },
    {
      "cell_type": "code",
      "source": [
        "# Bibliotecas\n",
        "%matplotlib inline\n",
        "import matplotlib.pyplot as plt\n",
        "import seaborn as sns; sns.set()  # for plot styling\n",
        "import numpy as np\n",
        "import torch\n",
        "import random\n",
        "\n",
        "import numpy as np\n",
        "import pandas as pd\n",
        "import matplotlib.pyplot as plt\n",
        "import seaborn as sns\n",
        "\n",
        "# Me ayudará con excel\n",
        "import xlrd\n",
        "\n",
        "# Para la limpieza de los datos usando spark\n",
        "from pyspark.context import SparkContext\n",
        "from pyspark.sql.functions import *\n",
        "from pyspark.sql.types import *\n",
        "from pyspark.sql.types import *\n",
        "\n",
        "# Estos sirven para quitar espacios en blanco de las palabras\n",
        "from pyspark.sql.functions import ltrim,rtrim,trim\n",
        "from pyspark.sql.functions import length,col\n",
        "import pyspark.sql.functions as F\n",
        "import quinn\n",
        "\n",
        "from pyspark.sql import SparkSession, Row, dataframe\n",
        "from pyspark.context import SparkContext\n",
        "from pyspark.sql.session import SparkSession\n",
        "sc = SparkContext.getOrCreate();\n",
        "#sc = SparkContext('local')\n",
        "spark = SparkSession(sc)\n"
      ],
      "metadata": {
        "id": "fCv4TdA20Jkj"
      },
      "execution_count": 21,
      "outputs": []
    },
    {
      "cell_type": "markdown",
      "source": [
        "## Algoritmo K-means"
      ],
      "metadata": {
        "id": "qAYoZTA3J4R0"
      }
    },
    {
      "cell_type": "code",
      "source": [
        "def eucledian_distance(centroid, row):\n",
        "  \"\"\"\n",
        "  Calcula la distancia euclediana sin importar las dimensiones\n",
        "  Entrada: 2 listas o tensores de datos una representa al centroide y la otra representa un punto \n",
        "  Salida: un numero representando la distancia\n",
        "  \"\"\"\n",
        "  #Tomo el largo de la lista row, las 2 listas (centroid, row) siempre va a tener el mismo largo\n",
        "  dimension = len(row)\n",
        "\n",
        "  #Variable para almacenar la suma de las diferencias al cuadrado\n",
        "  distance = 0\n",
        "\n",
        "  #por cada valor en la lista, calculo la diferencia al cuadrado y la sumo\n",
        "  for i in range(0, dimension):\n",
        "    distance += ((centroid[i]-row[i])**2)\n",
        "  \n",
        "  #Retorno la raiz de la suma de las diferencias al cuadrado de todos los puntos en la lista\n",
        "  return distance**(1/2)"
      ],
      "metadata": {
        "id": "kbs4t9lws1Qr"
      },
      "execution_count": 22,
      "outputs": []
    },
    {
      "cell_type": "code",
      "source": [
        "def k_means(X, k):\n",
        "\n",
        "  #Extraigo la lista de datos y la guardo en X\n",
        "  #X = data.values\n",
        "\n",
        "  \"\"\"\n",
        "  Algoritmo kmeans\n",
        "  Entrada: Un conjunto de datos X en formato tensor, numero de clusters k\n",
        "  Salida:  2 listas una repreentando los centroides y otra representando los clusters\n",
        "  \"\"\"\n",
        "\n",
        "  # Bandera para el ciclo while\n",
        "  diff = 1\n",
        "\n",
        "  # Una lista de n ceros donde n es la cantidad de filas del conjunto de datos \n",
        "  cantRows = len(X)\n",
        "  cluster = np.zeros(cantRows)\n",
        "  \n",
        "  # Una lista con k centroides que va a ir siendo ajustados (aleatoriamente)\n",
        "  #centroids = np.random.choice(X, k)\n",
        "  centroids = random.choices(X, k=k)\n",
        "  #centroids = data.sample(n=k).values\n",
        "  while diff:\n",
        "     \n",
        "     # Por cada fila (i, row) -> i va aumentando en 1\n",
        "     for i, row in enumerate(X):\n",
        "       \n",
        "       # Establezco una variable (minimaDistancia) con un número muy grande al principio\n",
        "       min_dist = float('inf')\n",
        "       # Por cada punto saco la distancia al centroide\n",
        "       for idx, centroid in enumerate(centroids):\n",
        "         \n",
        "         # Calculo la distancia utilizando la distancia euclediana\n",
        "         d = eucledian_distance(centroid, row)\n",
        "\n",
        "         # Verifico si la nueva distancia es menor a la actual\n",
        "         if min_dist > d:\n",
        "           # Establesco la mejor distancia\n",
        "           min_dist = d\n",
        "           # Establesco el cluster al que mejor pertenece (por orden de lista)\n",
        "           cluster[i] = idx\n",
        "     \n",
        "     # Guardo y ordeno los datos dependiendo del cluster\n",
        "     new_centroids = pd.DataFrame(X).groupby(by=cluster).mean().values\n",
        "     #new_centroids = torch.tensor(new_centroids)\n",
        "     \n",
        "     # si los centroides son iguales, dentengo el ciclo\n",
        "     # También se puede establecer un punto de parada por número de iteraciones\n",
        "\n",
        "     centroids = [x.tolist() for x in centroids]\n",
        "\n",
        "     if np.count_nonzero(centroids-new_centroids) == 0:\n",
        "       diff = 0\n",
        "     else:\n",
        "       centroids = new_centroids\n",
        "\n",
        "  centroids = np.array(centroids)\n",
        "  return centroids, cluster"
      ],
      "metadata": {
        "id": "Jz7plUUvJ-A-"
      },
      "execution_count": 23,
      "outputs": []
    },
    {
      "cell_type": "markdown",
      "source": [
        "## Datos algoritmo K-Means, prueba y visualización"
      ],
      "metadata": {
        "id": "l1uvIFOVGxjT"
      }
    },
    {
      "cell_type": "markdown",
      "source": [
        "Se generan datos"
      ],
      "metadata": {
        "id": "WqkzwAa8cOUQ"
      }
    },
    {
      "cell_type": "code",
      "source": [
        "# Genero una lista de datos aleatorios (0-100) una matriz de 300 filas y 2 columnas\n",
        "X = torch.randint(100, (300, 2))\n",
        "#Genero 4 clusters\n",
        "K = 4"
      ],
      "metadata": {
        "id": "pBqZ7EhAGpwL"
      },
      "execution_count": 24,
      "outputs": []
    },
    {
      "cell_type": "markdown",
      "source": [
        "Se grafican los datos generados"
      ],
      "metadata": {
        "id": "UqTGZ1G5cQtL"
      }
    },
    {
      "cell_type": "code",
      "source": [
        "# Gráfico en 2 dimensiones para representar distribución de los puntos\n",
        "sns.scatterplot(X[:,0], X[:, 1])\n",
        "plt.xlabel('F1')\n",
        "plt.ylabel('F2')\n",
        "plt.show()"
      ],
      "metadata": {
        "id": "-TTnROBfs7su",
        "colab": {
          "base_uri": "https://localhost:8080/",
          "height": 340
        },
        "outputId": "8163b209-d243-46cb-8fcb-ca0e0244651a"
      },
      "execution_count": 25,
      "outputs": [
        {
          "output_type": "stream",
          "name": "stderr",
          "text": [
            "/usr/local/lib/python3.7/dist-packages/seaborn/_decorators.py:43: FutureWarning: Pass the following variables as keyword args: x, y. From version 0.12, the only valid positional argument will be `data`, and passing other arguments without an explicit keyword will result in an error or misinterpretation.\n",
            "  FutureWarning\n"
          ]
        },
        {
          "output_type": "display_data",
          "data": {
            "text/plain": [
              "<Figure size 432x288 with 1 Axes>"
            ],
            "image/png": "[encoded data removed]"
          },
          "metadata": {}
        }
      ]
    },
    {
      "cell_type": "markdown",
      "source": [
        "Aplico el algoritmo de K-Means"
      ],
      "metadata": {
        "id": "tvj7SZtxcXif"
      }
    },
    {
      "cell_type": "code",
      "source": [
        "# Comienzo a aplicar el algoritmo k-means al conjunto de datos artificial\n",
        "centroids, cluster = k_means(X, K)"
      ],
      "metadata": {
        "id": "7-WCOuU0LDag"
      },
      "execution_count": 26,
      "outputs": []
    },
    {
      "cell_type": "code",
      "source": [
        "\n",
        "# Muestro f¿gráficamente el resultado \n",
        "\n",
        "sns.scatterplot(X[ : , 0], X[ : , 1], hue=cluster)\n",
        "sns.scatterplot(centroids[:,0], centroids[:, 1], s=100, color='y')\n",
        "plt.xlabel('X')\n",
        "plt.ylabel('Y')\n",
        "plt.show()"
      ],
      "metadata": {
        "id": "AyfXF1WH7o7F",
        "colab": {
          "base_uri": "https://localhost:8080/",
          "height": 374
        },
        "outputId": "32823b0e-df6c-4781-8b10-ac412c755cbf"
      },
      "execution_count": 27,
      "outputs": [
        {
          "output_type": "stream",
          "name": "stderr",
          "text": [
            "/usr/local/lib/python3.7/dist-packages/seaborn/_decorators.py:43: FutureWarning: Pass the following variables as keyword args: x, y. From version 0.12, the only valid positional argument will be `data`, and passing other arguments without an explicit keyword will result in an error or misinterpretation.\n",
            "  FutureWarning\n",
            "/usr/local/lib/python3.7/dist-packages/seaborn/_decorators.py:43: FutureWarning: Pass the following variables as keyword args: x, y. From version 0.12, the only valid positional argument will be `data`, and passing other arguments without an explicit keyword will result in an error or misinterpretation.\n",
            "  FutureWarning\n"
          ]
        },
        {
          "output_type": "display_data",
          "data": {
            "text/plain": [
              "<Figure size 432x288 with 1 Axes>"
            ],
            "image/png": "[encoded data removed]"
          },
          "metadata": {}
        }
      ]
    },
    {
      "cell_type": "markdown",
      "source": [
        "## Algoritmo DBSCAN"
      ],
      "metadata": {
        "id": "ANMdRFlvDLDf"
      }
    },
    {
      "cell_type": "code",
      "source": [
        "#Implementación de DBSCAN\n",
        "from itertools import cycle, islice\n",
        "\n",
        "class CustomDBSCAN():\n",
        "    def __init__(self):\n",
        "        self.core = -1\n",
        "        self.border = -2\n",
        "\n",
        "    # Find all neighbour points at epsilon distance\n",
        "    def neighbour_points(self, data, pointId, epsilon):\n",
        "        points = []\n",
        "        for i in range(len(data)):\n",
        "            # Euclidian distance\n",
        "            if np.linalg.norm([a_i - b_i for a_i, b_i in zip(data[i], data[pointId])]) <= epsilon:\n",
        "                points.append(i)\n",
        "        return points\n",
        "\n",
        "    # Fit the data into the DBSCAN model\n",
        "    def fit(self, data, Eps, MinPt):\n",
        "        # initialize all points as outliers\n",
        "        point_label = [0] * len(data)\n",
        "        point_count = []\n",
        "\n",
        "        # initilize list for core/border points\n",
        "        core = []\n",
        "        border = []\n",
        "\n",
        "        # Find the neighbours of each individual point\n",
        "        for i in range(len(data)):\n",
        "            point_count.append(self.neighbour_points(data, i, Eps))\n",
        "\n",
        "        # Find all the core points, border points and outliers\n",
        "        for i in range(len(point_count)):\n",
        "            if (len(point_count[i]) >= MinPt):\n",
        "                point_label[i] = self.core\n",
        "                core.append(i)\n",
        "            else:\n",
        "                border.append(i)\n",
        "\n",
        "        for i in border:\n",
        "            for j in point_count[i]:\n",
        "                if j in core:\n",
        "                    point_label[i] = self.border\n",
        "                    break\n",
        "\n",
        "        # Assign points to a cluster\n",
        "\n",
        "        cluster = 1\n",
        "\n",
        "        # Here we use a queue to find all the neighbourhood points of a core point and find the indirectly reachable points\n",
        "        # We are essentially performing Breadth First search of all points which are within Epsilon distance for each other\n",
        "        for i in range(len(point_label)):\n",
        "            q = []\n",
        "            if (point_label[i] == self.core):\n",
        "                point_label[i] = cluster\n",
        "                for x in point_count[i]:\n",
        "                    if(point_label[x] == self.core):\n",
        "                        q.append(x)\n",
        "                        point_label[x] = cluster\n",
        "                    elif(point_label[x] == self.border):\n",
        "                        point_label[x] = cluster\n",
        "                while (len(q)>0):\n",
        "                    neighbors = point_count[q[0]]\n",
        "                    q=q[1:]\n",
        "                    for y in neighbors:\n",
        "                        if (point_label[y] == self.core):\n",
        "                            point_label[y] = cluster\n",
        "                            q.append(y)\n",
        "                        if (point_label[y] == self.border):\n",
        "                            point_label[y] = cluster\n",
        "                cluster += 1  # Move on to the next cluster\n",
        "\n",
        "        return point_label, cluster\n",
        "\n",
        "    # Visualize the clusters\n",
        "    def visualize(self, data, cluster, numberOfClusters):\n",
        "        N = len(data)\n",
        "        colors2 = ['black','red', 'blue', 'green']\n",
        "\n",
        "        colors = np.array(list(islice(cycle(['#FE4A49', '#2AB7CA', '#2aca3a']), 3)))\n",
        "        #print(colors)\n",
        "\n",
        "        for i in range(numberOfClusters):\n",
        "            if (i == 0):\n",
        "                # Plot all outliers point as black\n",
        "                color = '#000000'\n",
        "            else:\n",
        "                color = colors[i % len(colors)]\n",
        "\n",
        "            x, y = [], []\n",
        "            for j in range(N):\n",
        "                if cluster[j] == i:\n",
        "                    x.append(data[j][0])\n",
        "                    y.append(data[j][1])\n",
        "            label = f'Cluster {i}'\n",
        "            if i == 0:\n",
        "                label = \"Puntos ruido\"\n",
        "            plt.scatter(x, y, c=color, alpha=1, marker='.', label=label)\n",
        "        plt.legend(loc='upper center', bbox_to_anchor=(0.5, -0.08), \n",
        "           ncol=2)\n",
        "        plt.show()"
      ],
      "metadata": {
        "id": "mKmbf9qPDVdn"
      },
      "execution_count": 28,
      "outputs": []
    },
    {
      "cell_type": "markdown",
      "source": [
        "## Datos algoritmo DBSCAN, prueba y visualización"
      ],
      "metadata": {
        "id": "bure2dOWDUAR"
      }
    },
    {
      "cell_type": "markdown",
      "source": [
        "Generamos datos para probar DBSCAN"
      ],
      "metadata": {
        "id": "WqmeyjkRUC1o"
      }
    },
    {
      "cell_type": "code",
      "source": [
        "#Meter dato de prueba\n",
        "from sklearn.preprocessing import StandardScaler\n",
        "from sklearn.datasets import make_blobs\n",
        "centers = [[1, 1], [-1, -1], [1, -1]]\n",
        "j, labels_true = make_blobs(n_samples=750, centers=centers, cluster_std=0.4, random_state=0)\n",
        "j = StandardScaler().fit_transform(j)"
      ],
      "metadata": {
        "id": "6FXtKkVJCasY"
      },
      "execution_count": 29,
      "outputs": []
    },
    {
      "cell_type": "markdown",
      "source": [
        "Graficamos los datos generados"
      ],
      "metadata": {
        "id": "ruxskdKTUGRk"
      }
    },
    {
      "cell_type": "code",
      "source": [
        "plt.scatter(j[:,0], j[:,1])"
      ],
      "metadata": {
        "colab": {
          "base_uri": "https://localhost:8080/",
          "height": 285
        },
        "id": "IuQHSWOFUFz9",
        "outputId": "f9d1095f-3bc7-4351-fe1a-2f7745e3852c"
      },
      "execution_count": 30,
      "outputs": [
        {
          "output_type": "execute_result",
          "data": {
            "text/plain": [
              "<matplotlib.collections.PathCollection at 0x7f39df9f6710>"
            ]
          },
          "metadata": {},
          "execution_count": 30
        },
        {
          "output_type": "display_data",
          "data": {
            "text/plain": [
              "<Figure size 432x288 with 1 Axes>"
            ],
            "image/png": "[encoded data removed]"
          },
          "metadata": {}
        }
      ]
    },
    {
      "cell_type": "markdown",
      "source": [
        "Calculamos DBSCAN, mostrando algunos datos de los datos y los clusters:"
      ],
      "metadata": {
        "id": "Jj83CDwuUJ4e"
      }
    },
    {
      "cell_type": "code",
      "source": [
        "print(\"Datos generados escalados:\")\n",
        "print(j)\n",
        "\n",
        "custom_DBSCAN = CustomDBSCAN()\n",
        "point_labels, clusters = custom_DBSCAN.fit(j, 0.30, 10)\n",
        "\n",
        "print(\"Clusters de los datos (Se muestran solo 20):\")\n",
        "print(point_labels[:20],\"....\")\n",
        "\n",
        "print(\"Cantidad de Clusters:\")\n",
        "print(clusters)\n",
        "\n",
        "custom_DBSCAN.visualize(j, point_labels, clusters)"
      ],
      "metadata": {
        "colab": {
          "base_uri": "https://localhost:8080/",
          "height": 514
        },
        "id": "7gpGqfwOUK6g",
        "outputId": "b0c7ad3b-3789-4a0f-e803-f0d9a6d40767"
      },
      "execution_count": 31,
      "outputs": [
        {
          "output_type": "stream",
          "name": "stdout",
          "text": [
            "Datos generados escalados:\n",
            "[[ 0.49426097  1.45106697]\n",
            " [-1.42808099 -0.83706377]\n",
            " [ 0.33855918  1.03875871]\n",
            " ...\n",
            " [-0.05713876 -0.90926105]\n",
            " [-1.16939407  0.03959692]\n",
            " [ 0.26322951 -0.92649949]]\n",
            "Clusters de los datos (Se muestran solo 20):\n",
            "[1, 2, 1, 3, 1, 2, 2, 3, 1, 1, 2, 2, 2, 3, 2, 1, 0, 2, 2, 3] ....\n",
            "Cantidad de Clusters:\n",
            "4\n"
          ]
        },
        {
          "output_type": "display_data",
          "data": {
            "text/plain": [
              "<Figure size 432x288 with 1 Axes>"
            ],
            "image/png": "[encoded data removed]"
          },
          "metadata": {}
        }
      ]
    },
    {
      "cell_type": "markdown",
      "source": [
        "## Preprocesamiento de los datos del oij y censo con spark\n",
        "\n"
      ],
      "metadata": {
        "id": "1DFrIRfODawW"
      }
    },
    {
      "cell_type": "markdown",
      "source": [
        "## Leemos los archivos del censo y del oij "
      ],
      "metadata": {
        "id": "8iuVVnyjt94X"
      }
    },
    {
      "cell_type": "code",
      "source": [
        "#Con skiprow le indico que me lea de la fila numero 4 en adelante \n",
        "#y con usecols le indico el rango de columnas de mi interés, todo esto solo para los datos del censo\n",
        "xls_censo = pd.read_excel('datos_censo.xlsx', skiprows = 9, usecols=range(1,8))\n",
        "\n",
        "#Limpio el xls_censo quitandole las filas que están en blanco\n",
        "xls_censo = xls_censo.dropna()\n",
        "\n",
        "#Esto me cambia el nombre de las columnas de los datos del censo\n",
        "xls_censo.rename(columns={'Unnamed: 1':'provinciaCantonYDistrito',\n",
        "                          'Unnamed: 2':'población_de_15_años_y_más',\n",
        "                          'Unnamed: 3':'tasa_neta_de_participación',\n",
        "                          'Unnamed: 4':'tasa_de_ocupación',\n",
        "                          'Unnamed: 5':'tasa_de_desempleo_abierto',\n",
        "                          'Unnamed: 6':'porcentaje_de_población_económicamente_inactiva',\n",
        "                          'Unnamed: 7':'relación_de_dependencia_económica'},inplace=True)\n",
        "\n",
        "\n",
        "#Leemos los datos del oij\n",
        "xls_oij = pd.read_excel('datos_oij.xlsx')\n",
        "\n",
        "\n",
        "#Creamos los dataframe del oij y del censo\n",
        "dfPandas_censo = pd.DataFrame(xls_censo)\n",
        "dfPandas_oij = pd.DataFrame(xls_oij)\n",
        "\n",
        "#print(dfPandas_censo)\n",
        "#print(dfPandas_oij)\n",
        "#Defino el tipo de datos, que va a tener el datafame_censo de spark, porque si no me da error al crear el frame en spark\n",
        "mySchema = StructType([ StructField(\"provinciaCantonYDistrito\", StringType(), True)\\\n",
        "                       ,StructField(\"población_de_15_años_y_más\", FloatType(), True)\\\n",
        "                       ,StructField(\"tasa_neta_de_participación\", FloatType(), True)\\\n",
        "                       ,StructField(\"tasa_de_ocupación\", FloatType(), True)\\\n",
        "                       ,StructField(\"tasa_de_desempleo_abierto\", StringType(), True)\\\n",
        "                       ,StructField(\"porcentaje_de_población_económicamente_inactiva\", FloatType(), True)\\\n",
        "                       ,StructField(\"relación_de_dependencia_económica\", FloatType(), True)])\n",
        "\n",
        "# Creamos el spark dataframe\n",
        "df_censo = spark.createDataFrame(dfPandas_censo, schema=mySchema)\n",
        "df_oij = spark.createDataFrame(dfPandas_oij)\n",
        "\n",
        "#df_censo.show()\n",
        "\n",
        "print(\"Terminado correctamente\")"
      ],
      "metadata": {
        "id": "mthNcxyBCnj1",
        "colab": {
          "base_uri": "https://localhost:8080/"
        },
        "outputId": "12ac83e2-9fb5-41c9-aec3-14a7f935e186"
      },
      "execution_count": 19,
      "outputs": [
        {
          "output_type": "stream",
          "name": "stdout",
          "text": [
            "Terminado correctamente\n"
          ]
        }
      ]
    },
    {
      "cell_type": "markdown",
      "source": [
        "## Función que elimine los espacios en blanco de la columna distrito para usarse en ambos conjuntos de datos."
      ],
      "metadata": {
        "id": "2Cjt4azvuTYw"
      }
    },
    {
      "cell_type": "code",
      "source": [
        "#ESta funcion muestra el antes y el despues de aplicar la funcion de quitar los espacios dentro del censo\n",
        "\n",
        "# Descripción Muestra el largo de del contenido de una columna de un dataframe\n",
        "# Entrada: \n",
        "#   df: Dataframe a modificar la columna\n",
        "#   colum: nombre de la columna a modificar\n",
        "#   alias: alias de la columna nueva a mostrar\n",
        "#   cant: cantidad de elementos a mostrar y contar su contenido\n",
        "def mostrar_largo_celdas(df, colum, alias, cant):\n",
        "    df.select(length(col(colum)).alias(alias)).show(cant)\n",
        "\n",
        "    \n",
        "\n",
        "#Verifico que tengan los espacios en blanco\n",
        "#mostrar_largo_celdas(df_censo, \"provinciaCantonYDistrito\", \"length_with_whitespace_censo\", 5)\n",
        "#mostrar_largo_celdas(df_oij, \"Distrito\", \"length_with_whitespace_oij\", 5)\n",
        "\n",
        "\n",
        "# Descripción Elimina los espacios en blanco de una columna de un dataframe\n",
        "# Entradas:\n",
        "#   df: Dataframe a modificar la columna\n",
        "#   colum: nombre de la columna a modificar\n",
        "# Salida: El dataframe con la columna modificada\n",
        "def eliminar_espacios_en_blanco(df, colum):\n",
        "    df = df.withColumn(colum,quinn.remove_all_whitespace(col(colum)))\n",
        "    return df\n",
        "\n",
        "#Elimino los espacios    \n",
        "df_censo = eliminar_espacios_en_blanco(df_censo, \"provinciaCantonYDistrito\")\n",
        "df_oij = eliminar_espacios_en_blanco(df_oij, \"Distrito\")\n",
        "\n",
        "\n",
        "#Verifico que se eliminaron los espacios en blanco en las dos columnas(censo y oij) correctamente\n",
        "\n",
        "#mostrar_largo_celdas(df_censo, \"provinciaCantonYDistrito\", \"length_without_whitespace_censo\", 5)\n",
        "#mostrar_largo_celdas(df_oij, \"Distrito\", \"length_without_whitespace_oij\", 5)\n",
        "                  \n",
        "    \n",
        "#df_censo.show(10)\n",
        "print(\"Espacios en blanco eliminados correctamente\")"
      ],
      "metadata": {
        "id": "60Tfv_U2uOca",
        "colab": {
          "base_uri": "https://localhost:8080/"
        },
        "outputId": "b782ab73-49d9-4e31-84f1-4334b905e90b"
      },
      "execution_count": 32,
      "outputs": [
        {
          "output_type": "stream",
          "name": "stdout",
          "text": [
            "Espacios en blanco eliminados correctamente\n"
          ]
        }
      ]
    },
    {
      "cell_type": "markdown",
      "source": [
        "## Una función que convierta a minúsculas el contenido de la columna distrito para usarse en ambos conjuntos de datos."
      ],
      "metadata": {
        "id": "42VyEFlhvGE0"
      }
    },
    {
      "cell_type": "code",
      "source": [
        "# Descripción: Muestra los datos de una columna en un dataframe\n",
        "# Entradas:\n",
        "#   df: Dataframe a mostrar\n",
        "#   colum: nombre de la columna a mostrar\n",
        "#   alias: Alias de la columna del resultado\n",
        "#   cant: cantidad de elementos a mostrar\n",
        "def mostrar_datos_celdas(df, colum, alias, cant):\n",
        "    df.select(col(colum)).alias(alias).show(cant)\n",
        "    \n",
        "#Verifico que algunos datos estén con mayusculas\n",
        "#mostrar_datos_celdas(df_censo, \"provinciaCantonYDistrito\", \"Dates_with_upperCase_censo\", 5)\n",
        "#mostrar_datos_celdas(df_oij, \"Distrito\", \"Dates_with_upperCase_oij\", 5)\n",
        "\n",
        "# Descripción: Convierte los datos de una columna en un dataframe a minuscula\n",
        "# Entradas:\n",
        "#   df: Dataframe a modificar la columna\n",
        "#   colum: nombre de la columna a modificar\n",
        "# Salida: El dataframe con la columna modificada\n",
        "def convertir_celda_a_minuscula(df, colum):\n",
        "    df = df.withColumn(colum,lower(col(colum)))\n",
        "    return df\n",
        "# Convierto a minisculas las columnas \"provinciaCantonYDistrito\" y \"Distrito\" de los datos del OIJ y del INEC respectivamente\n",
        "df_censo = convertir_celda_a_minuscula(df_censo, \"provinciaCantonYDistrito\")\n",
        "df_oij = convertir_celda_a_minuscula(df_oij, \"Distrito\")\n",
        "\n",
        "# Muestro los datos para verificar que se realizó el cambio correctamente\n",
        "#mostrar_datos_celdas(df_censo, \"provinciaCantonYDistrito\", \"Dates_without_upperCase_censo\", 5)\n",
        "#mostrar_datos_celdas(df_oij, \"Distrito\", \"Dates_without_upperCase_oij\", 5)\n",
        "\n",
        "print(\"Palabras convertidas a minúsculas\")"
      ],
      "metadata": {
        "id": "w6vB1J0lvL4O",
        "colab": {
          "base_uri": "https://localhost:8080/"
        },
        "outputId": "2e9ae90b-e3f3-46f7-e474-a7f3fc4a16c5"
      },
      "execution_count": 33,
      "outputs": [
        {
          "output_type": "stream",
          "name": "stdout",
          "text": [
            "Palabras convertidas a minúsculas\n"
          ]
        }
      ]
    },
    {
      "cell_type": "markdown",
      "source": [
        "## Elimino acentos o tíldes"
      ],
      "metadata": {
        "id": "zIPjMkP70qfo"
      }
    },
    {
      "cell_type": "code",
      "source": [
        "# Descripción: Quito los acentos y 'ñ' de los datos de una columna en un dataframe\n",
        "# Entrada:\n",
        "#   df: Dataframe a modificar la columna\n",
        "#   colum: nombre de la columna a modificar\n",
        "# Salida: El dataframe con la columna modificada\n",
        "def quitar_acentos(df, nombre_columna):\n",
        "    df= df.withColumn(nombre_columna, regexp_replace(nombre_columna, \"á\", \"a\"))\n",
        "    df= df.withColumn(nombre_columna, regexp_replace(nombre_columna, \"é\", \"e\"))\n",
        "    df= df.withColumn(nombre_columna, regexp_replace(nombre_columna, \"í\", \"i\"))\n",
        "    df= df.withColumn(nombre_columna, regexp_replace(nombre_columna, \"ó\", \"o\"))\n",
        "    df= df.withColumn(nombre_columna, regexp_replace(nombre_columna, \"ú\", \"u\"))\n",
        "    df= df.withColumn(nombre_columna, regexp_replace(nombre_columna, \"ñ\", \"n\"))\n",
        "    return df\n",
        "\n",
        "#Quito acentos y ñs de los datos del oij para que los datos calzen\n",
        "df_censo = quitar_acentos(df_censo, \"provinciaCantonYDistrito\")\n",
        "#df_oij = quitar_acentos(df_oij, \"Distrito\")\n",
        "\n",
        "\n",
        "\n",
        "#df_censo.toPandas().to_csv('df_censo.csv')\n",
        "#df_oij.toPandas().to_csv('df_oij.csv')\n",
        "print(\"Tíldes eliminadas correctamente\")"
      ],
      "metadata": {
        "id": "OP9gcFpc0FdT",
        "colab": {
          "base_uri": "https://localhost:8080/"
        },
        "outputId": "9973b8d2-2862-4405-dfe7-273b69332091"
      },
      "execution_count": 34,
      "outputs": [
        {
          "output_type": "stream",
          "name": "stdout",
          "text": [
            "Tíldes eliminadas correctamente\n"
          ]
        }
      ]
    },
    {
      "cell_type": "markdown",
      "source": [
        "## Junto los datos del oij y el inec con "
      ],
      "metadata": {
        "id": "tMOVSyUFOw0d"
      }
    },
    {
      "cell_type": "code",
      "source": [
        "#Junto los datos del censo con los del oij\n",
        "df_censo_join_oij = df_censo.join(df_oij,df_censo.provinciaCantonYDistrito ==  df_oij.Distrito,\"inner\")\n",
        "df_censo_join_oij.count()\n",
        "\n",
        "#Mara mostrar los datos\n",
        "df_censo_join_oij.show()\n"
      ],
      "metadata": {
        "id": "N1hs1xlZFB37",
        "colab": {
          "base_uri": "https://localhost:8080/"
        },
        "outputId": "f9e7fa23-e5cc-4f1b-9f0f-5b4759772b85"
      },
      "execution_count": 35,
      "outputs": [
        {
          "output_type": "stream",
          "name": "stdout",
          "text": [
            "+------------------------+--------------------------+--------------------------+-----------------+-------------------------+-----------------------------------------------+---------------------------------+------+--------------------+-------------------+-------------------+-----------+--------------------+-------------+-----------+------------+---------+-------+----------+\n",
            "|provinciaCantonYDistrito|población_de_15_años_y_más|tasa_neta_de_participación|tasa_de_ocupación|tasa_de_desempleo_abierto|porcentaje_de_población_económicamente_inactiva|relación_de_dependencia_económica|Delito|           SubDelito|              Fecha|               Hora|    Victima|          SubVictima|         Edad|     Genero|Nacionalidad|Provincia| Canton|  Distrito|\n",
            "+------------------------+--------------------------+--------------------------+-----------------+-------------------------+-----------------------------------------------+---------------------------------+------+--------------------+-------------------+-------------------+-----------+--------------------+-------------+-----------+------------+---------+-------+----------+\n",
            "|              occidental|                    8363.0|                 52.014828|        50.675594|        2.574712643678161|                                      47.985172|                        1.2760919|ASALTO|         ARMA BLANCA|2021-01-09 00:00:00|09:00:00 - 11:59:59|    PERSONA|    PEATON [PERSONA]|Mayor de edad|DESCONOCIDO|   NICARAGUA|  CARTAGO|CARTAGO|occidental|\n",
            "|              occidental|                    8363.0|                 52.014828|        50.675594|        2.574712643678161|                                      47.985172|                        1.2760919|ASALTO|         ARMA BLANCA|2021-01-24 00:00:00|15:00:00 - 17:59:59|    PERSONA|    PEATON [PERSONA]|Mayor de edad|     HOMBRE|  COSTA RICA|  CARTAGO|CARTAGO|occidental|\n",
            "|              occidental|                    8363.0|                 52.014828|        50.675594|        2.574712643678161|                                      47.985172|                        1.2760919|ASALTO|         ARMA BLANCA|2021-01-27 00:00:00|15:00:00 - 17:59:59|    PERSONA|CLIENTE LOCAL COM...|Mayor de edad|      MUJER|  COSTA RICA|  CARTAGO|CARTAGO|occidental|\n",
            "|              occidental|                    8363.0|                 52.014828|        50.675594|        2.574712643678161|                                      47.985172|                        1.2760919|ASALTO|         ARMA BLANCA|2021-01-27 00:00:00|15:00:00 - 17:59:59|    PERSONA|CLIENTE LOCAL COM...|Mayor de edad|      MUJER|  COSTA RICA|  CARTAGO|CARTAGO|occidental|\n",
            "|              occidental|                    8363.0|                 52.014828|        50.675594|        2.574712643678161|                                      47.985172|                        1.2760919|ASALTO|         ARMA BLANCA|2021-01-01 00:00:00|00:00:00 - 02:59:59|    PERSONA|    PEATON [PERSONA]|Mayor de edad|     HOMBRE|  COSTA RICA|  CARTAGO|CARTAGO|occidental|\n",
            "|              occidental|                    8363.0|                 52.014828|        50.675594|        2.574712643678161|                                      47.985172|                        1.2760919|ASALTO|         ARMA BLANCA|2021-03-24 00:00:00|18:00:00 - 20:59:59|    PERSONA|    PEATON [PERSONA]|Mayor de edad|DESCONOCIDO|  COSTA RICA|  CARTAGO|CARTAGO|occidental|\n",
            "|              occidental|                    8363.0|                 52.014828|        50.675594|        2.574712643678161|                                      47.985172|                        1.2760919|ASALTO|         ARMA BLANCA|2021-01-24 00:00:00|15:00:00 - 17:59:59|    PERSONA|    PEATON [PERSONA]| Adulto Mayor|     HOMBRE|  COSTA RICA|  CARTAGO|CARTAGO|occidental|\n",
            "|              occidental|                    8363.0|                 52.014828|        50.675594|        2.574712643678161|                                      47.985172|                        1.2760919|ASALTO|         ARMA BLANCA|2021-06-14 00:00:00|15:00:00 - 17:59:59|    PERSONA|    PEATON [PERSONA]|Mayor de edad|     HOMBRE|   NICARAGUA|  CARTAGO|CARTAGO|occidental|\n",
            "|              occidental|                    8363.0|                 52.014828|        50.675594|        2.574712643678161|                                      47.985172|                        1.2760919|ASALTO|         ARMA BLANCA|2021-03-29 00:00:00|15:00:00 - 17:59:59|    PERSONA|    PEATON [PERSONA]|Menor de edad|      MUJER|  COSTA RICA|  CARTAGO|CARTAGO|occidental|\n",
            "|              occidental|                    8363.0|                 52.014828|        50.675594|        2.574712643678161|                                      47.985172|                        1.2760919|ASALTO|       ARMA DE FUEGO|2021-01-03 00:00:00|18:00:00 - 20:59:59|EDIFICACION|PANADERIA [EDIFIC...|Mayor de edad|     HOMBRE| Desconocido|  CARTAGO|CARTAGO|occidental|\n",
            "|              occidental|                    8363.0|                 52.014828|        50.675594|        2.574712643678161|                                      47.985172|                        1.2760919|ASALTO|       ARMA DE FUEGO|2021-04-07 00:00:00|21:00:00 - 23:59:59|    PERSONA|    PEATON [PERSONA]|Mayor de edad|DESCONOCIDO|  COSTA RICA|  CARTAGO|CARTAGO|occidental|\n",
            "|              occidental|                    8363.0|                 52.014828|        50.675594|        2.574712643678161|                                      47.985172|                        1.2760919|ASALTO|       ARMA DE FUEGO|2021-05-15 00:00:00|09:00:00 - 11:59:59|    PERSONA|    PEATON [PERSONA]|Mayor de edad|DESCONOCIDO|  COSTA RICA|  CARTAGO|CARTAGO|occidental|\n",
            "|              occidental|                    8363.0|                 52.014828|        50.675594|        2.574712643678161|                                      47.985172|                        1.2760919|ASALTO|       ARMA DE FUEGO|2021-05-11 00:00:00|09:00:00 - 11:59:59|    PERSONA|    PEATON [PERSONA]|Menor de edad|DESCONOCIDO|  COSTA RICA|  CARTAGO|CARTAGO|occidental|\n",
            "|              occidental|                    8363.0|                 52.014828|        50.675594|        2.574712643678161|                                      47.985172|                        1.2760919|ASALTO|            ARREBATO|2021-02-16 00:00:00|18:00:00 - 20:59:59|    PERSONA|    PEATON [PERSONA]|Mayor de edad|      MUJER|  COSTA RICA|  CARTAGO|CARTAGO|occidental|\n",
            "|              occidental|                    8363.0|                 52.014828|        50.675594|        2.574712643678161|                                      47.985172|                        1.2760919|ASALTO|            ARREBATO|2021-01-15 00:00:00|12:00:00 - 14:59:59|    PERSONA|OTRO O INDETERMIN...|Mayor de edad|      MUJER|  COSTA RICA|  CARTAGO|CARTAGO|occidental|\n",
            "|              occidental|                    8363.0|                 52.014828|        50.675594|        2.574712643678161|                                      47.985172|                        1.2760919|ASALTO|            ARREBATO|2021-03-16 00:00:00|09:00:00 - 11:59:59|    PERSONA|    PEATON [PERSONA]|Menor de edad|DESCONOCIDO|  COSTA RICA|  CARTAGO|CARTAGO|occidental|\n",
            "|              occidental|                    8363.0|                 52.014828|        50.675594|        2.574712643678161|                                      47.985172|                        1.2760919|ASALTO| INTIMIDACION VERBAL|2021-02-05 00:00:00|09:00:00 - 11:59:59|    PERSONA|    PEATON [PERSONA]|Mayor de edad|     HOMBRE|  COSTA RICA|  CARTAGO|CARTAGO|occidental|\n",
            "|              occidental|                    8363.0|                 52.014828|        50.675594|        2.574712643678161|                                      47.985172|                        1.2760919| HURTO|           CON LLAVE|2021-03-28 00:00:00|21:00:00 - 23:59:59|    PERSONA|OTRO O INDETERMIN...|Mayor de edad|DESCONOCIDO|  COSTA RICA|  CARTAGO|CARTAGO|occidental|\n",
            "|              occidental|                    8363.0|                 52.014828|        50.675594|        2.574712643678161|                                      47.985172|                        1.2760919|ASALTO|       ARMA DE FUEGO|2021-05-15 00:00:00|09:00:00 - 11:59:59|    PERSONA|    PEATON [PERSONA]|Mayor de edad|DESCONOCIDO|  COSTA RICA|  CARTAGO|CARTAGO|occidental|\n",
            "|              occidental|                    8363.0|                 52.014828|        50.675594|        2.574712643678161|                                      47.985172|                        1.2760919| HURTO|OTRO O INDETERMINADO|2021-03-02 00:00:00|15:00:00 - 17:59:59|    PERSONA|OTRO O INDETERMIN...| Adulto Mayor|      MUJER|  COSTA RICA|  CARTAGO|CARTAGO|occidental|\n",
            "+------------------------+--------------------------+--------------------------+-----------------+-------------------------+-----------------------------------------------+---------------------------------+------+--------------------+-------------------+-------------------+-----------+--------------------+-------------+-----------+------------+---------+-------+----------+\n",
            "only showing top 20 rows\n",
            "\n"
          ]
        }
      ]
    },
    {
      "cell_type": "markdown",
      "source": [
        "## Varables a utilizar y documentación del motivo de la selección de acuerdo al problema en estudio:\n",
        "\n",
        "1. Porcentaje de población económicamente inactiva\n",
        "2. Tasa de desempleo abierto\n",
        "3. Relación de dependencia económica\n",
        "4. Edad\n",
        "5. Cantidad de delitos por distrito.\n",
        "\n",
        "El **Porcentaje de población económicamente inactiva** y la **tasa de desempleo abierto** nos da una idea de cuantas personas se encuentran fuera del mundo laboral y cuantas de estas personas desempleadas están interesadas en conseguir trabajo. \n",
        "La **edad** y la **relación de dependencia económica** nos puede dar una idea de las necesidades económicas de los que cometen estos delitos respecto a su edad. "
      ],
      "metadata": {
        "id": "SpaqWuuoLxpf"
      }
    },
    {
      "cell_type": "code",
      "source": [
        "#df_censo_join_oij.show()\n",
        "df_temp = df_censo_join_oij\n",
        "\n",
        "#Calculo la cantidad de delitos por distrito\n",
        "df_temp = df_temp.groupby('Distrito').agg(count('Provincia').alias('cantidad_delitos_por_distrito')).sort(desc(\"cantidad_delitos_por_distrito\"))\n",
        "\n",
        "#Extraigo las columnas que necesito para hacer el join\n",
        "variables_dataframe = df_censo_join_oij.select(\"porcentaje_de_población_económicamente_inactiva\",\n",
        "                                               \"tasa_de_desempleo_abierto\",\n",
        "                                               \"relación_de_dependencia_económica\",\n",
        "                                               \"Edad\",\n",
        "                                               \"Distrito\") # El distrito es para hacer join\n",
        "\n",
        "#Realizo la union de datos utilizando un join y retornando una matriz con las 5 variables\n",
        "new_dataframe = variables_dataframe.join(df_temp,variables_dataframe.Distrito ==  df_temp.Distrito,\"inner\")\n",
        "\n",
        "\n",
        "#Puedo eliminar los repetidos pero pierdo información en edad\n",
        "#new_dataframe = new_dataframe.dropDuplicates(['Distrito'])\n",
        "\n",
        "\n",
        "# Especifico el nombre de columnas que voy a utilizar\n",
        "dataframe = new_dataframe.select('porcentaje_de_población_económicamente_inactiva',\n",
        "           'tasa_de_desempleo_abierto', 'relación_de_dependencia_económica',\n",
        "           'Edad','cantidad_delitos_por_distrito')\n",
        "\n",
        "#Mostramos que el proceso se haya echo correctamente\n",
        "dataframe.show()\n",
        "\n",
        "#Cuento los datos\n",
        "dataframe.count()"
      ],
      "metadata": {
        "id": "xWHDaYhMYbH7",
        "colab": {
          "base_uri": "https://localhost:8080/"
        },
        "outputId": "e17e19c7-e9d4-4dff-afe8-cb0e4f29a2ee"
      },
      "execution_count": 36,
      "outputs": [
        {
          "output_type": "stream",
          "name": "stdout",
          "text": [
            "+-----------------------------------------------+-------------------------+---------------------------------+-------------+-----------------------------+\n",
            "|porcentaje_de_población_económicamente_inactiva|tasa_de_desempleo_abierto|relación_de_dependencia_económica|         Edad|cantidad_delitos_por_distrito|\n",
            "+-----------------------------------------------+-------------------------+---------------------------------+-------------+-----------------------------+\n",
            "|                                      54.264084|        3.700097370983447|                          2.06037|Mayor de edad|                           20|\n",
            "|                                      54.264084|        3.700097370983447|                          2.06037| Adulto Mayor|                           20|\n",
            "|                                      54.264084|        3.700097370983447|                          2.06037|Mayor de edad|                           20|\n",
            "|                                      54.264084|        3.700097370983447|                          2.06037|Mayor de edad|                           20|\n",
            "|                                      54.264084|        3.700097370983447|                          2.06037|Mayor de edad|                           20|\n",
            "|                                      54.264084|        3.700097370983447|                          2.06037|Mayor de edad|                           20|\n",
            "|                                      54.264084|        3.700097370983447|                          2.06037|Mayor de edad|                           20|\n",
            "|                                      54.264084|        3.700097370983447|                          2.06037|Mayor de edad|                           20|\n",
            "|                                      54.264084|        3.700097370983447|                          2.06037|Mayor de edad|                           20|\n",
            "|                                      54.264084|        3.700097370983447|                          2.06037|Mayor de edad|                           20|\n",
            "|                                      54.264084|        3.700097370983447|                          2.06037| Adulto Mayor|                           20|\n",
            "|                                      54.264084|        3.700097370983447|                          2.06037|Mayor de edad|                           20|\n",
            "|                                      54.264084|        3.700097370983447|                          2.06037|Mayor de edad|                           20|\n",
            "|                                      54.264084|        3.700097370983447|                          2.06037|Mayor de edad|                           20|\n",
            "|                                      54.264084|        3.700097370983447|                          2.06037| Adulto Mayor|                           20|\n",
            "|                                      54.264084|        3.700097370983447|                          2.06037|Mayor de edad|                           20|\n",
            "|                                      54.264084|        3.700097370983447|                          2.06037|Mayor de edad|                           20|\n",
            "|                                      54.264084|        3.700097370983447|                          2.06037|Mayor de edad|                           20|\n",
            "|                                      54.264084|        3.700097370983447|                          2.06037|Mayor de edad|                           20|\n",
            "|                                      54.264084|        3.700097370983447|                          2.06037|Mayor de edad|                           20|\n",
            "+-----------------------------------------------+-------------------------+---------------------------------+-------------+-----------------------------+\n",
            "only showing top 20 rows\n",
            "\n"
          ]
        },
        {
          "output_type": "execute_result",
          "data": {
            "text/plain": [
              "40252"
            ]
          },
          "metadata": {},
          "execution_count": 36
        }
      ]
    },
    {
      "cell_type": "markdown",
      "source": [
        "# Prueba de datos usando k-Means"
      ],
      "metadata": {
        "id": "FSK8py0Avf_Q"
      }
    },
    {
      "cell_type": "code",
      "source": [
        "#Importo la biblioteca para codificar los targets\n",
        "from sklearn.preprocessing import LabelEncoder\n",
        "\n",
        "#Convertir la columna de Edad a números\n",
        "#Se crea una función para codficar las etiquetas que no son números\n",
        "#En el cual estaremos seleccionando las columnas que tienen valores categóricos y \n",
        "#realizaremos la codificación de etiquetas. \n",
        "\n",
        "def Encoder(df):\n",
        "  #Recibe un dataframe de pandas\n",
        "  #Retorna un dataframe de pandas con las etiquetas codificadas\n",
        "  \n",
        "  columnsToEncode = list(df.select_dtypes(include=['category','object']))\n",
        "  le = LabelEncoder()\n",
        "  for feature in columnsToEncode:\n",
        "      try:\n",
        "          df[feature] = le.fit_transform(df[feature])\n",
        "      except:\n",
        "          print('Error encoding '+feature)\n",
        "  return df"
      ],
      "metadata": {
        "id": "c1a7zqP_ftAC"
      },
      "execution_count": 37,
      "outputs": []
    },
    {
      "cell_type": "code",
      "source": [
        "# Convierto el dataframe de spark a pandas para usarlo en la función\n",
        "dataframe = dataframe.toPandas()"
      ],
      "metadata": {
        "id": "RmBKf4GZoTF8"
      },
      "execution_count": 38,
      "outputs": []
    },
    {
      "cell_type": "code",
      "source": [
        "#Se crea un objeto 'columnsToEncode' que hará una lista de columnas que tienen valores categóricos,\n",
        "# es decir, las columnas que tienen el tipo de datos 'categoría' u 'objeto'.\n",
        "columnsToEncode = list(dataframe.select_dtypes(include=['category','object']))"
      ],
      "metadata": {
        "id": "RvDGbnAqm-ji"
      },
      "execution_count": 39,
      "outputs": []
    },
    {
      "cell_type": "code",
      "source": [
        "# Inicializo el label encoder\n",
        "le = LabelEncoder()"
      ],
      "metadata": {
        "id": "LUZUB3oDoesy"
      },
      "execution_count": 40,
      "outputs": []
    },
    {
      "cell_type": "code",
      "source": [
        "\"\"\"\n",
        "Ciclo que iterará sobre las columnas de la lista 'columnsToEncode'.\n",
        "En el bucle, hemos utilizado la función try y except, que consta de 2 bloques, 'try' y 'except'.\n",
        " Funciona de manera que se ejecutarán las primeras declaraciones dentro del bloque de prueba y\n",
        " , si tiene algún error, solo se ejecutará el bloque de excepción.\n",
        "En el bloque except hemos utilizado el método fit_transform de LabelEncoder con el atributo df[feature] y \n",
        "en el bloque except hay una declaración de impresión.\n",
        "\"\"\"\n",
        "for feature in columnsToEncode:\n",
        "              try:\n",
        "                  dataframe[feature] = le.fit_transform(dataframe[feature])\n",
        "              except:\n",
        "                  print('Error encoding '+feature)"
      ],
      "metadata": {
        "id": "tserCCLRoqVv"
      },
      "execution_count": 41,
      "outputs": []
    },
    {
      "cell_type": "code",
      "source": [
        "#Por último mandamos nuestro dataframe a la función\n",
        "df = Encoder(dataframe)\n",
        "\n",
        "#Mostramos que la codificación en la columna se haya echo correctamente\n",
        "#display(df)"
      ],
      "metadata": {
        "id": "mlzvWEV_wAYz"
      },
      "execution_count": 42,
      "outputs": []
    },
    {
      "cell_type": "code",
      "source": [
        "#Convierto el dataframe de pandas a una matriz de numpy para usarla en el kmeans\n",
        "df = df.to_numpy()"
      ],
      "metadata": {
        "id": "HiUJqdV1zgqj"
      },
      "execution_count": 43,
      "outputs": []
    },
    {
      "cell_type": "code",
      "source": [
        "# Asigno los datos a una variable\n",
        "X = torch.tensor(df)\n",
        "\n",
        "#Reviso las primeras 3 filas para observar cómo son mis datos\n",
        "print(X[:3])\n",
        "\n",
        "# Nombro el número de clusters que utilizaré\n",
        "K = 4"
      ],
      "metadata": {
        "id": "8Op_zm44fJtP",
        "colab": {
          "base_uri": "https://localhost:8080/"
        },
        "outputId": "2c37b587-c059-4ee9-b6c7-c993db276ea9"
      },
      "execution_count": 44,
      "outputs": [
        {
          "output_type": "stream",
          "name": "stdout",
          "text": [
            "tensor([[ 54.2641, 335.0000,   2.0604,   2.0000,  20.0000],\n",
            "        [ 54.2641, 335.0000,   2.0604,   0.0000,  20.0000],\n",
            "        [ 54.2641, 335.0000,   2.0604,   2.0000,  20.0000]],\n",
            "       dtype=torch.float64)\n"
          ]
        }
      ]
    },
    {
      "cell_type": "code",
      "source": [
        "# Comienzo a aplicar el algoritmo k-means al conjunto de datos artificial\n",
        "centroids, cluster = k_means(X, K)"
      ],
      "metadata": {
        "id": "Ar4kULrJftrZ"
      },
      "execution_count": 45,
      "outputs": []
    },
    {
      "cell_type": "markdown",
      "source": [
        "#Método del codo para seleccionar el mejor K y vuelva a ejecutar el algoritmo usando el K recomendado."
      ],
      "metadata": {
        "id": "v1gmn7Yt0MM4"
      }
    },
    {
      "cell_type": "code",
      "source": [
        "# Cargo la biblioteca sklearn para usar el kmeans \n",
        "from sklearn.cluster import KMeans\n",
        "\n",
        "#Suma de los cuadrados de las distancias de cada punto de datos en todos los grupos a sus respectivos\n",
        " #centroides(WCSS).\n",
        "wcss = []\n",
        "\n",
        "for i in range(1, 11):\n",
        "  # Inicializo el modelo\n",
        "  kmeans = KMeans(n_clusters = i, init = 'k-means++', random_state = 42)\n",
        "  #Entreno el modelo\n",
        "  kmeans.fit(X)\n",
        "  #Guardo el resultado de la suma de los cuadrados en una variable\n",
        "  wcss.append(kmeans.inertia_)\n",
        "\n",
        "# Grafica de la suma de las distancias\n",
        "plt.plot(range(1, 11), wcss)\n",
        "#Titulo\n",
        "plt.title('Método del codo')\n",
        "plt.xlabel('Número de clusters')\n",
        "plt.ylabel('WCSS')\n",
        "plt.show()"
      ],
      "metadata": {
        "id": "hCY6smEs0LcK",
        "colab": {
          "base_uri": "https://localhost:8080/",
          "height": 301
        },
        "outputId": "c3f0ec12-eaf6-4e3b-f4f1-56d0f194d55e"
      },
      "execution_count": 46,
      "outputs": [
        {
          "output_type": "display_data",
          "data": {
            "text/plain": [
              "<Figure size 432x288 with 1 Axes>"
            ],
            "image/png": "[encoded data removed]"
          },
          "metadata": {}
        }
      ]
    },
    {
      "cell_type": "code",
      "source": [
        "# Vuelvo a ejecutar el algoritmo pero ahora utilizando un k = 3\n",
        "\n",
        "#Asigno el k\n",
        "K = 3\n",
        "\n",
        "#Vuelvo a entrenar\n",
        "centroids_2, cluster_2 = k_means(X, K)"
      ],
      "metadata": {
        "id": "0E-BgDma0xLg"
      },
      "execution_count": 48,
      "outputs": []
    },
    {
      "cell_type": "markdown",
      "source": [
        "## Utilice el algoritmo DBSCAN implementado en el ejercicio 1 para caracterizar los datos usando las variables seleccionadas."
      ],
      "metadata": {
        "id": "BVXmLcJU5HJk"
      }
    },
    {
      "cell_type": "code",
      "source": [
        "def check_core_point(eps,minPts, df, index):\n",
        "    #get points from given index\n",
        "    v, w, x, y, z, = df.iloc[index][0], df.iloc[index][1], df.iloc[index][2], df.iloc[index][3], df.iloc[index][4]\n",
        "    \n",
        "    #check available points within radiu\n",
        "    # np.linalg.norm([a_i - b_i for a_i, b_i in zip(data[i], data[pointId])]) <= epsilon\n",
        "    temp =  df[((np.abs(x - df[0]) <= eps) & (np.abs(v - df[0]) <= eps) & (np.abs(w - df[1]) <= eps) & (np.abs(x - df[2]) <= eps) & (np.abs(y - df[3]) <= eps) & (np.abs(z - df[4]) <= eps)) & (df.index != index)]\n",
        "    '''\n",
        "    points = []\n",
        "    for i in range(len(df)):\n",
        "        # Euclidian distance\n",
        "        if np.linalg.norm([a_i - b_i for a_i, b_i in zip(df.iloc[i], df.iloc[index])]) <= eps:\n",
        "            points.append(i)\n",
        "    temp = pd.DataFrame(points)\n",
        "    '''\n",
        "    \n",
        "    #check how many points are present within radius\n",
        "    if len(temp) >= minPts:\n",
        "        #return format (dataframe, is_core, is_border, is_noise)\n",
        "        return (temp.index , True, False, False)\n",
        "    \n",
        "    elif (len(temp) < minPts) and len(temp) > 0:\n",
        "        #return format (dataframe, is_core, is_border, is_noise)\n",
        "        return (temp.index , False, True, False)\n",
        "    \n",
        "    elif len(temp) == 0:\n",
        "        #return format (dataframe, is_core, is_border, is_noise)\n",
        "        return (temp.index , False, False, True)"
      ],
      "metadata": {
        "id": "PJlfyiTRPYqP"
      },
      "execution_count": 49,
      "outputs": []
    },
    {
      "cell_type": "code",
      "source": [
        "def cluster_with_stack(eps, minPts, df):\n",
        "    \n",
        "    #initiating cluster number\n",
        "    C = 1\n",
        "    #initiating stacks to maintain\n",
        "    current_stack = set()\n",
        "    unvisited = list(df.index)\n",
        "    clusters = []\n",
        "    \n",
        "    \n",
        "    while (len(unvisited) != 0): #run until all points have been visited\n",
        "\n",
        "        #identifier for first point of a cluster\n",
        "        first_point = True\n",
        "        \n",
        "        #choose a random unvisited point\n",
        "        current_stack.add(random.choice(unvisited))\n",
        "        \n",
        "        while len(current_stack) != 0: #run until a cluster is complete\n",
        "            \n",
        "            #pop current point from stack\n",
        "            curr_idx = current_stack.pop()\n",
        "            \n",
        "            #check if point is core, neighbour or border\n",
        "            neigh_indexes, iscore, isborder, isnoise = check_core_point(eps, minPts, df, curr_idx)\n",
        "            \n",
        "            #dealing with an edge case\n",
        "            if (isborder & first_point):\n",
        "                #for first border point, we label it aand its neighbours as noise \n",
        "                clusters.append((curr_idx, 0))\n",
        "                clusters.extend(list(zip(neigh_indexes,[0 for _ in range(len(neigh_indexes))])))\n",
        "                \n",
        "                #label as visited\n",
        "                unvisited.remove(curr_idx)\n",
        "                unvisited = [e for e in unvisited if e not in neigh_indexes]\n",
        "    \n",
        "                continue\n",
        "                \n",
        "            unvisited.remove(curr_idx) #remove point from unvisited list\n",
        "            \n",
        "            \n",
        "            neigh_indexes = set(neigh_indexes) & set(unvisited) #look at only unvisited points\n",
        "            \n",
        "            if iscore: #if current point is a core\n",
        "                first_point = False\n",
        "                \n",
        "                clusters.append((curr_idx,C)) #assign to a cluster\n",
        "                current_stack.update(neigh_indexes) #add neighbours to a stack\n",
        "\n",
        "            elif isborder: #if current point is a border point\n",
        "                clusters.append((curr_idx,C))\n",
        "                \n",
        "                continue\n",
        "\n",
        "            elif isnoise: #if current point is noise\n",
        "                clusters.append((curr_idx, 0))\n",
        "                \n",
        "                continue\n",
        "                \n",
        "        if not first_point:\n",
        "            #increment cluster number\n",
        "            C+=1\n",
        "        \n",
        "    return clusters"
      ],
      "metadata": {
        "id": "2DNa1XHrPY7B"
      },
      "execution_count": 50,
      "outputs": []
    },
    {
      "cell_type": "markdown",
      "source": [
        "Se aplica el algoritmo de DBSCAN a los datos"
      ],
      "metadata": {
        "id": "j6yL08hWcxPA"
      }
    },
    {
      "cell_type": "code",
      "source": [
        "j = StandardScaler().fit_transform(X)\n",
        "data = pd.DataFrame(j)\n",
        "print(data)\n",
        "print(data[0])\n",
        "print(data[1])\n",
        "clustered = cluster_with_stack(1.6, 60, data)"
      ],
      "metadata": {
        "id": "WKV3_BFB5KX6",
        "outputId": "74fa3327-0a4e-4ee7-b493-c0fb990fc0a7",
        "colab": {
          "base_uri": "https://localhost:8080/"
        }
      },
      "execution_count": 51,
      "outputs": [
        {
          "output_type": "stream",
          "name": "stdout",
          "text": [
            "              0         1         2         3         4\n",
            "0      1.562195  0.531278  1.722320  0.328423 -0.777516\n",
            "1      1.562195  0.531278  1.722320 -3.270723 -0.777516\n",
            "2      1.562195  0.531278  1.722320  0.328423 -0.777516\n",
            "3      1.562195  0.531278  1.722320  0.328423 -0.777516\n",
            "4      1.562195  0.531278  1.722320  0.328423 -0.777516\n",
            "...         ...       ...       ...       ...       ...\n",
            "40247 -0.251270 -2.150505 -0.237822  0.328423 -0.785830\n",
            "40248  0.568047 -2.192019  0.057320  0.328423 -0.785830\n",
            "40249 -0.251270 -2.150505 -0.237822  0.328423 -0.785830\n",
            "40250  0.568047 -2.192019  0.057320  0.328423 -0.785830\n",
            "40251 -0.251270 -2.150505 -0.237822  0.328423 -0.785830\n",
            "\n",
            "[40252 rows x 5 columns]\n",
            "0        1.562195\n",
            "1        1.562195\n",
            "2        1.562195\n",
            "3        1.562195\n",
            "4        1.562195\n",
            "           ...   \n",
            "40247   -0.251270\n",
            "40248    0.568047\n",
            "40249   -0.251270\n",
            "40250    0.568047\n",
            "40251   -0.251270\n",
            "Name: 0, Length: 40252, dtype: float64\n",
            "0        0.531278\n",
            "1        0.531278\n",
            "2        0.531278\n",
            "3        0.531278\n",
            "4        0.531278\n",
            "           ...   \n",
            "40247   -2.150505\n",
            "40248   -2.192019\n",
            "40249   -2.150505\n",
            "40250   -2.192019\n",
            "40251   -2.150505\n",
            "Name: 1, Length: 40252, dtype: float64\n"
          ]
        }
      ]
    },
    {
      "cell_type": "markdown",
      "source": [
        "Se grafica"
      ],
      "metadata": {
        "id": "TbCpO-tUUGPm"
      }
    },
    {
      "cell_type": "code",
      "source": [
        "from matplotlib.pyplot import figure\n",
        "figure(figsize=(8, 6), dpi=110)\n",
        "plt.style.use('ggplot')\n",
        "\n",
        "idx , cluster = list(zip(*clustered))\n",
        "cluster = cluster[len(cluster)-len(X):]\n",
        "cluster_df = pd.DataFrame(clustered, columns = [\"idx\", \"cluster\"])\n",
        "\n",
        "for clust in np.unique(cluster):\n",
        "    l_label= f'Cluster{clust}'\n",
        "    if clust == 0:\n",
        "        l_label = \"Puntos ruido\"\n",
        "    plt.scatter(j[cluster_df[\"idx\"][cluster_df[\"cluster\"] == clust].values, 0], j[cluster_df[\"idx\"][cluster_df[\"cluster\"] == clust].values, 1], s=10, label=l_label)\n",
        "                \n",
        "plt.legend(loc='upper center', bbox_to_anchor=(0.5, -0.08), \n",
        "       ncol=2)\n",
        "plt.title('Clustered Data')\n",
        "plt.show()"
      ],
      "metadata": {
        "id": "hcSw-I4NLa_P",
        "colab": {
          "base_uri": "https://localhost:8080/",
          "height": 747
        },
        "outputId": "b8769d88-6655-4a82-e29d-2414681988e4"
      },
      "execution_count": 91,
      "outputs": [
        {
          "output_type": "display_data",
          "data": {
            "text/plain": [
              "<Figure size 880x660 with 1 Axes>"
            ],
            "image/png": "[encoded data removed]"
          },
          "metadata": {}
        }
      ]
    },
    {
      "cell_type": "markdown",
      "source": [
        "## Investigue sobre la mejor forma de evaluar los algoritmo K-Means y DBSCAN y documente su investigación (e incluya en el cuaderno de Jupyter a presentar al menos dos de los métodos de evaluación encontrados). Aplique uno de los métodos a la evaluación de los clusteres resultantes de los ejercicios anteriores."
      ],
      "metadata": {
        "id": "wS2gomHO5NLs"
      }
    },
    {
      "cell_type": "markdown",
      "source": [
        "El coeficiente de silueta es una medida de la cohesión y separación del grupo. Cuantifica qué tan bien encaja un punto de datos en su grupo asignado en función de dos factores:\n",
        "Qué tan cerca está el punto de datos de otros puntos en el clúster\n",
        "A qué distancia está el punto de datos de los puntos en otros clústeres\n",
        "Los valores del coeficiente de silueta oscilan entre -1y 1. Los números más grandes indican que las muestras están más cerca de sus conglomerados que de otros conglomerados.\n",
        "El coeficiente de silueta, además del método del codo,  es una buena forma de comparar los resultados de los clusters del ejercicio, ya que a estos clusters no se le conocen sus targets y esta medida está perfecta ya que no necesita saberlo. (Python, 2022)\n"
      ],
      "metadata": {
        "id": "4Ffgzp3T_Idg"
      }
    },
    {
      "cell_type": "markdown",
      "source": [
        "### Evaluacion del k-means"
      ],
      "metadata": {
        "id": "I3J1SpIcM2XJ"
      }
    },
    {
      "cell_type": "code",
      "source": [
        "from sklearn.metrics import silhouette_score\n",
        "#Calculo el coeficiente de silueta\n",
        "score = silhouette_score(X,cluster_2, metric='euclidean')\n",
        "#Muestro el score\n",
        "print(score)\n"
      ],
      "metadata": {
        "id": "d2w0bwRX5QtZ",
        "colab": {
          "base_uri": "https://localhost:8080/"
        },
        "outputId": "d0b942d3-5a8b-4f79-dc20-2c34dc3e66af"
      },
      "execution_count": 53,
      "outputs": [
        {
          "output_type": "stream",
          "name": "stdout",
          "text": [
            "0.7354770662775564\n"
          ]
        }
      ]
    },
    {
      "cell_type": "markdown",
      "source": [
        "0.73 indica que las muestras están más cerca de sus conglomerados que de otros conglomerados. "
      ],
      "metadata": {
        "id": "XANAtJ59Jgeb"
      }
    },
    {
      "cell_type": "markdown",
      "source": [
        "### Evaluación del DBscan"
      ],
      "metadata": {
        "id": "Rj7Z_bEeM69d"
      }
    },
    {
      "cell_type": "code",
      "source": [
        "#Calculo el coeficiente de silueta\n",
        "#En clusters_2 va os llabels :-)\n",
        "score = silhouette_score(X,np.asarray(cluster), metric='euclidean')\n",
        "#Muestro el score\n",
        "print(score)"
      ],
      "metadata": {
        "id": "KWBDlCi8M-xN",
        "colab": {
          "base_uri": "https://localhost:8080/"
        },
        "outputId": "d641983a-f8ee-4004-dcaa-17586ea22001"
      },
      "execution_count": 94,
      "outputs": [
        {
          "output_type": "stream",
          "name": "stdout",
          "text": [
            "-0.3484712511996816\n"
          ]
        }
      ]
    },
    {
      "cell_type": "markdown",
      "source": [
        "## Compare los resultados de ambos algoritmos y genere y documente sus conclusiones (incluya al menos cuatro conclusiones importantes)."
      ],
      "metadata": {
        "id": "6Hu4V17e5Tfb"
      }
    },
    {
      "cell_type": "markdown",
      "source": [
        "1. Kmeans es mejor cuando los datos tienen muchas dimensiones, a diferencia del dbscan que conforme aumenta las dimensiones y la cantidad de datos se vuelve más ineficiente\n",
        "2. Cuando los datos estan muy dispersos y los parametros del DBSCAN no se eligen bien puede resultar en un rendimiento muy deplorable como se ve en los resultados.\n",
        "3. Encontramos que en nuestra implementación Kmeans es superior a DBSCAN ya que como se observa en los resultados el algoritmo kmeans muestra un coeficiente de silueta cercano a 1 indicando que las muestras están más cerca de sus conglomerados que de otros conglomerados, a diferencia del dbscan que mostró un resultado poco satisfactorio por debajo de 0.\n",
        "4. Nuestra implementación de Kmeans es muy superior a DBSCAN en complejidad temporal tanto por nuestro algoritmo de Kmeans que tiene una complejidad temporal de O(n) como por la cantidad de datos, en general DBSCAN con una gran cantidad de datos tiende a crecer muy rápido en complejidad temporal."
      ],
      "metadata": {
        "id": "1QimehLg5bw-"
      }
    },
    {
      "cell_type": "markdown",
      "source": [
        "## Referencias\n",
        "\n",
        "- K. (2022, January 6). K-Means Clustering: Python Implementation from Scratch. Medium. https://medium.com/nerd-for-tech/k-means-python-implementation-from-scratch-8400f30b8e5c\n",
        "\n",
        "- N. (2021, July 1). Post author: NNK. Spark by {Examples}. https://sparkbyexamples.com/pyspark/pyspark-join-explained-with-examples/#:%7E:text=PySpark%20Join%20is%20used%20to,SEMI%20%2C%20CROSS%20%2C%20SELF%20JOIN.\n",
        "\n",
        "- How to convert string categorical variables into numerical variables using Label Encoder in python -. ProjectPro. (2022). Retrieved 8 June 2022, from https://www.projectpro.io/recipes/convert-string-categorical-variables-into-numerical-variables-using-label-encoder.\n",
        "\n",
        "- Python, R. (2022). K-Means Clustering in Python: A Practical Guide – Real Python. Realpython.com. Retrieved 12 June 2022, from https://realpython.com/k-means-clustering-python/."
      ],
      "metadata": {
        "id": "TpuBDla_3Ind"
      }
    },
    {
      "cell_type": "markdown",
      "source": [
        "# Sección 2. PCA"
      ],
      "metadata": {
        "id": "Pysi0GPW5lLm"
      }
    },
    {
      "cell_type": "markdown",
      "source": [
        "## Carga de archivo, estadísticas del conjunto de datos y escalación de los atributos."
      ],
      "metadata": {
        "id": "DUWbnlnene3q"
      }
    },
    {
      "cell_type": "code",
      "source": [
        "\n",
        "#Llamo al conjunto de datos previamente cargados\n",
        "pandasDF = new_dataframe.toPandas()\n",
        "\n",
        "# Estos son mis datos\n",
        "# Especifico el nombre de columnas que voy a utilizar\n",
        "dataframe = new_dataframe.select('porcentaje_de_población_económicamente_inactiva',\n",
        "           'tasa_de_desempleo_abierto', 'relación_de_dependencia_económica',\n",
        "           'Edad','cantidad_delitos_por_distrito')\n",
        "\n",
        "\n",
        "#Mostrar algunas estadísticas de los datos\n",
        "dataframe.describe().show()\n",
        "\n",
        "# Convierto mis datos a un dataframe de pandas\n",
        "data = dataframe.toPandas()\n",
        "\n",
        "# media de los datos, la desviación estándar, el valor mínimo y el máximo"
      ],
      "metadata": {
        "id": "hPdCXvYl9bDN",
        "colab": {
          "base_uri": "https://localhost:8080/"
        },
        "outputId": "c54fb2e4-2ef3-450c-fb8e-e4b3d6b6cfb0"
      },
      "execution_count": 95,
      "outputs": [
        {
          "output_type": "stream",
          "name": "stdout",
          "text": [
            "+-------+-----------------------------------------------+-------------------------+---------------------------------+-------------+-----------------------------+\n",
            "|summary|porcentaje_de_población_económicamente_inactiva|tasa_de_desempleo_abierto|relación_de_dependencia_económica|         Edad|cantidad_delitos_por_distrito|\n",
            "+-------+-----------------------------------------------+-------------------------+---------------------------------+-------------+-----------------------------+\n",
            "|  count|                                          40252|                    40252|                            40252|        40252|                        40252|\n",
            "|   mean|                             46.441480690805335|       3.3596249157624705|                1.486534540102139|         null|           1329.2481367385471|\n",
            "| stddev|                              5.007504291127683|       0.9282857557336518|               0.3331799121028642|         null|            1683.906305084182|\n",
            "|    min|                                      34.180763|                        -|                       0.90957636| Adulto Mayor|                            1|\n",
            "|    max|                                       68.79756|        8.620689655172415|                              3.5|Menor de edad|                         5330|\n",
            "+-------+-----------------------------------------------+-------------------------+---------------------------------+-------------+-----------------------------+\n",
            "\n"
          ]
        }
      ]
    },
    {
      "cell_type": "code",
      "source": [
        "# Tomo mis targets de la columna 4\n",
        "targets_nombres =  pandasDF.iloc[:,[4]]\n",
        "\n",
        "#COnvierto a numpy mis targets\n",
        "targets = targets_nombres.to_numpy()\n",
        "print(targets)"
      ],
      "metadata": {
        "colab": {
          "base_uri": "https://localhost:8080/"
        },
        "id": "75R8ltJLG6Zd",
        "outputId": "db5520de-f1ba-48f2-ed68-72d11495f5a0"
      },
      "execution_count": 96,
      "outputs": [
        {
          "output_type": "stream",
          "name": "stdout",
          "text": [
            "[['aguabuena']\n",
            " ['aguabuena']\n",
            " ['aguabuena']\n",
            " ...\n",
            " ['zarcero']\n",
            " ['zarcero']\n",
            " ['zarcero']]\n"
          ]
        }
      ]
    },
    {
      "cell_type": "code",
      "source": [
        "from sklearn import preprocessing\n",
        "#Convierto de nombres a números utilizando preprocessing\n",
        "le = preprocessing.LabelEncoder()\n",
        "targets = le.fit_transform(targets)"
      ],
      "metadata": {
        "id": "3j-7MMTi9MXh",
        "colab": {
          "base_uri": "https://localhost:8080/"
        },
        "outputId": "bade1677-6977-4e45-9465-f469327e6c4a"
      },
      "execution_count": 97,
      "outputs": [
        {
          "output_type": "stream",
          "name": "stderr",
          "text": [
            "/usr/local/lib/python3.7/dist-packages/sklearn/preprocessing/_label.py:115: DataConversionWarning: A column-vector y was passed when a 1d array was expected. Please change the shape of y to (n_samples, ), for example using ravel().\n",
            "  y = column_or_1d(y, warn=True)\n"
          ]
        }
      ]
    },
    {
      "cell_type": "code",
      "source": [
        "# Escalado de datos del dataframe pandas\n",
        "data = df\n",
        "data_zscaled = (data - data.mean()) / data.std(ddof=1)"
      ],
      "metadata": {
        "id": "Ug66BEcbnqsE"
      },
      "execution_count": 98,
      "outputs": []
    },
    {
      "cell_type": "code",
      "source": [
        "# Asigno mi conjunto de datos y mis targets y los convierto a tensores\n",
        "data = torch.as_tensor(data)\n",
        "targets = torch.as_tensor(targets)\n",
        "\n",
        "#Muestro cantidad de columnas y filas de cada conjunto de datos\n",
        "print(data.size())\n",
        "print(targets.size())"
      ],
      "metadata": {
        "colab": {
          "base_uri": "https://localhost:8080/"
        },
        "id": "bk6lsnGUKBOc",
        "outputId": "3ef5ba4e-3f94-4ccc-8211-927b929c6d0c"
      },
      "execution_count": 99,
      "outputs": [
        {
          "output_type": "stream",
          "name": "stdout",
          "text": [
            "torch.Size([40252, 5])\n",
            "torch.Size([40252])\n"
          ]
        }
      ]
    },
    {
      "cell_type": "markdown",
      "source": [
        "## Aplíquele la técnica de PCA para reduccir la dimensionalidad del conjunto de datos."
      ],
      "metadata": {
        "id": "QPvF1xYjKn1J"
      }
    },
    {
      "cell_type": "code",
      "source": [
        "from sklearn.decomposition import PCA\n",
        "\n",
        "# Instancia del modelo con un un resultado bidimensional\n",
        "pca = PCA(n_components=2)\n",
        "\n",
        "# Aplicación a los datos\n",
        "principalComponents = pca.fit_transform(data_zscaled)\n",
        "\n",
        "# Formato\n",
        "principalDf = pd.DataFrame(data = principalComponents\n",
        "             , columns = ['PC1', 'PC2'])\n"
      ],
      "metadata": {
        "id": "cBFu4-c9KrH-"
      },
      "execution_count": 100,
      "outputs": []
    },
    {
      "cell_type": "code",
      "source": [
        "# Se grega la columna del target\n",
        "finalDf = pd.concat([principalDf, targets_nombres],axis=1)\n",
        "\n",
        "#Se comprueba que se haya reducido la dimensionalidad a 2\n",
        "print(\"Componentes principales PC1 y PC2\")\n",
        "print(finalDf)"
      ],
      "metadata": {
        "colab": {
          "base_uri": "https://localhost:8080/"
        },
        "id": "gxnm9UfbPedG",
        "outputId": "f5fdcd96-03f2-45ad-cfe0-f182f2ae8ceb"
      },
      "execution_count": 101,
      "outputs": [
        {
          "output_type": "stream",
          "name": "stdout",
          "text": [
            "Componentes principales PC1 y PC2\n",
            "            PC1       PC2   Distrito\n",
            "0     -1.437495 -0.068939  aguabuena\n",
            "1     -1.437495 -0.068938  aguabuena\n",
            "2     -1.437495 -0.068939  aguabuena\n",
            "3     -1.437495 -0.068939  aguabuena\n",
            "4     -1.437495 -0.068939  aguabuena\n",
            "...         ...       ...        ...\n",
            "40247 -1.452531  0.285736    zarcero\n",
            "40248 -1.452527  0.291207    zarcero\n",
            "40249 -1.452531  0.285736    zarcero\n",
            "40250 -1.452527  0.291207    zarcero\n",
            "40251 -1.452531  0.285736    zarcero\n",
            "\n",
            "[40252 rows x 3 columns]\n"
          ]
        }
      ]
    },
    {
      "cell_type": "markdown",
      "source": [
        "## Grafique la varianza explicada."
      ],
      "metadata": {
        "id": "ICXP9lm7KrQE"
      }
    },
    {
      "cell_type": "code",
      "source": [
        "import numpy\n",
        "modelo_pca = pca\n",
        "datos = data_zscaled\n",
        "# Porcentaje de varianza explicada por cada componente\n",
        "# ==============================================================================\n",
        "print('----------------------------------------------------')\n",
        "print('Porcentaje de varianza explicada por cada componente')\n",
        "print('----------------------------------------------------')\n",
        "print(modelo_pca.explained_variance_ratio_)\n",
        "\n",
        "fig, ax = plt.subplots(nrows=1, ncols=1, figsize=(6, 4))\n",
        "ax.bar(\n",
        "    x      = np.arange(modelo_pca.n_components_) + 1,\n",
        "    height = modelo_pca.explained_variance_ratio_\n",
        ")\n",
        "\n",
        "for x, y in zip(np.arange(datos.shape[1]) + 1, modelo_pca.explained_variance_ratio_):\n",
        "  label = numpy.round(y, 2)\n",
        "  ax.annotate(\n",
        "      label,\n",
        "      (x,y),\n",
        "      textcoords=\"offset points\",\n",
        "      xytext=(0,10),\n",
        "      ha='center'\n",
        "  )\n",
        "\n",
        "ax.set_xticks(np.arange(modelo_pca.n_components_) + 1)\n",
        "ax.set_ylim(0, 1.1)\n",
        "ax.set_title('Porcentaje de varianza explicada por cada componente')\n",
        "ax.set_xlabel('Componente principal')\n",
        "ax.set_ylabel('Por. varianza explicada');"
      ],
      "metadata": {
        "id": "rVTJrkQ9KubG",
        "colab": {
          "base_uri": "https://localhost:8080/",
          "height": 371
        },
        "outputId": "74dadc89-a75c-48c8-a9bc-d32f18b036da"
      },
      "execution_count": 102,
      "outputs": [
        {
          "output_type": "stream",
          "name": "stdout",
          "text": [
            "----------------------------------------------------\n",
            "Porcentaje de varianza explicada por cada componente\n",
            "----------------------------------------------------\n",
            "[0.99490205 0.00508915]\n"
          ]
        },
        {
          "output_type": "display_data",
          "data": {
            "text/plain": [
              "<Figure size 432x288 with 1 Axes>"
            ],
            "image/png": "[encoded data removed]"
          },
          "metadata": {}
        }
      ]
    },
    {
      "cell_type": "markdown",
      "source": [
        "## Tres conclusiones importantes sobre el ejercicio realizado. \n",
        "\n",
        "- En el último gráfico, se puede observar que la varianza corresponde en torno al primer componente por lo que se puede descarter el resto si perder casi nada de datos.\n",
        "\n",
        "- Es muy importante realizar este tipo de observaciones, como lo es la varianza explicada, para verificar si el procedimiento que se está realizando va por buen camino.\n",
        "\n",
        "- Si todas las variables se miden en la misma escala y tienen la misma unidad, podría ser una buena idea **no** escalar las variables (es decir, PCA basado en la matriz de covarianza). Si se desea maximizar la variación, es justo dejar que las variables con más variación contribuyan más. Por otro lado, si tiene diferentes tipos de variables con diferentes unidades, probablemente sea conveniente escalar los datos primero (es decir, PCA basado en la matriz de correlación)"
      ],
      "metadata": {
        "id": "9kj-Km_4Kuhf"
      }
    },
    {
      "cell_type": "markdown",
      "source": [
        "## Referencias\n",
        "\n",
        "- PCA con Python. Cienciadedatos.net. (2022). Retrieved 12 June 2022, from https://www.cienciadedatos.net/documentos/py19-pca-python.html.\n",
        "\n",
        "- Principal Component Analysis with Python - GeeksforGeeks. GeeksforGeeks. (2022). Retrieved 12 June 2022, from https://www.geeksforgeeks.org/principal-component-analysis-with-python/.\n",
        "\n",
        "-Python para todos: Tutorial de PCA en 5 sencillos pasos. Think Big. (2022). Retrieved 12 June 2022, from https://empresas.blogthinkbig.com/python-para-todos-tutorial-de-pca-en-5/.\n"
      ],
      "metadata": {
        "id": "4pAZJxeDK18y"
      }
    }
  ]
}