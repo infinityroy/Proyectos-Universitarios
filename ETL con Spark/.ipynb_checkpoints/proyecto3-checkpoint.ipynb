{
 "cells": [
  {
   "cell_type": "markdown",
   "metadata": {},
   "source": [
    "# ITCR - Sede Interuniversitaria de Alajuela\n",
    "\n",
    "## Proyecto 3 spark\n",
    "\n",
    "### Estudiantes: Roy Chavarría Garita - Jonder Hernández Gutiérrez"
   ]
  },
  {
   "cell_type": "markdown",
   "metadata": {},
   "source": [
    "## Objetivo del proyecto \n",
    "Aplicar técnicas para extracción, transformación y carga a datos de la\n",
    "vida cotidiana generados por instituciones en Costa Rica, calcular estadísticas sobre los\n",
    "datos y visualizarlas por medio de Spark.\n",
    "\n",
    "Objetivos específicos\n",
    "\n",
    "- Poner en práctica el conocimiento visto en clase sobre SparkSQL aplicado a datos\n",
    "de Costa Rica\n",
    "\n",
    "- Diseñar e implementar mecanismos que permitan analizar los datos por medio de\n",
    "estadísticas y visualización utilizando Spark."
   ]
  },
  {
   "cell_type": "markdown",
   "metadata": {},
   "source": [
    "## Descripción general del sistema. \n",
    "Este proyecto busca que los estudiantes se expongan a la complejidad que implica\n",
    "obtener e integrar datos reales que provienen de múltiples fuentes. Para el ejercicio se\n",
    "utilizarán datos de criminalidad en Costa Rica combinados con datos socio-económicos\n",
    "asociados a los cantones del país. Los datos deberán ser preprocesados e integrados de\n",
    "manera que puedan ser utilizados para propósitos analíticos.\n",
    "Los datos provienen de dos instituciones nacionales, a saber:\n",
    " 1. Instituto Nacional de Estadística y Censos de Costa Rica (INEC): El INEC es la\n",
    "institución encargada a nivel nacional de la generación y divulgación de datos\n",
    "estadísticos obtenidos por medio de censos, encuestas y otros estudios sobre\n",
    "demografía, economía y otros. Al igual que en el OIJ, los datos están disponibles\n",
    "por distrito. Los datos fueron generados por el INEC como resultado del censo\n",
    "realizado en el país en el año 2011. Los datos están disponibles en [1].\n",
    " 2. Organismo de Investigación Judicial (OIJ): El OIJ publica datos sobre criminalidad\n",
    "en Costa Rica que tienen como fuente las denuncias interpuestas directamente\n",
    "ante esta entidad nacional. Los datos recopilados por el OIJ están disponibles por\n",
    "1\n",
    "provincia, cantón y distrito (deben ser bajados como hoja electrónica para contar\n",
    "con el dato de distrito). Los datos están disponibles en [2]."
   ]
  },
  {
   "cell_type": "markdown",
   "metadata": {},
   "source": [
    "## Dependencias"
   ]
  },
  {
   "cell_type": "code",
   "execution_count": 1,
   "metadata": {},
   "outputs": [
    {
     "name": "stdout",
     "output_type": "stream",
     "text": [
      "Terminado correctamente\n"
     ]
    }
   ],
   "source": [
    "# Bibliotecas requeridas para el proyecto\n",
    "\n",
    "import pandas as pd\n",
    "from pyspark.context import SparkContext\n",
    "from pyspark.sql.functions import *\n",
    "from pyspark.sql.types import *\n",
    "from datetime import date, timedelta, datetime\n",
    "import time\n",
    "\n",
    "from pyspark.sql.types import *\n",
    "\n",
    "# Para trabahar con tipos de letras\n",
    "from openpyxl import load_workbook\n",
    "from openpyxl.styles import Font, Color, Alignment, Border, Side, colors\n",
    "\n",
    "# Me ayudará con excel\n",
    "import xlrd\n",
    "\n",
    "# Esto me ayuda con remplazo usando regex\n",
    "from pyspark.sql.functions import regexp_replace\n",
    "\n",
    "# Estos sirven para quitar espacios en blanco de las palabras\n",
    "from pyspark.sql.functions import ltrim,rtrim,trim\n",
    "from pyspark.sql.functions import length,col\n",
    "import pyspark.sql.functions as F\n",
    "import quinn\n",
    "\n",
    "# Esta es la librería para los gráficos\n",
    "import matplotlib.pyplot as plt\n",
    "\n",
    "from openpyxl import load_workbook\n",
    "from pandas import read_excel\n",
    "\n",
    "from pyspark.sql import SparkSession, Row, dataframe\n",
    "\n",
    "# Generar valores enteros random\n",
    "from random import seed\n",
    "from random import randint\n",
    "from random import random\n",
    "\n",
    "import findspark\n",
    "SPARK_PATH = '/opt/spark/'\n",
    "findspark.init(SPARK_PATH)\n",
    "\n",
    "print(\"Terminado correctamente\")"
   ]
  },
  {
   "cell_type": "markdown",
   "metadata": {},
   "source": [
    "## Creamos una sesión de spark y guardamos datos de la conexión con postgres"
   ]
  },
  {
   "cell_type": "code",
   "execution_count": 2,
   "metadata": {},
   "outputs": [
    {
     "name": "stdout",
     "output_type": "stream",
     "text": [
      "Terminado correctamente\n"
     ]
    }
   ],
   "source": [
    "#Guardo la ruta en una variable para trabajarla más facilmente\n",
    "#datos_oij = \"/home/estudiante/Escritorio/proyecto3/datos_oij.xls\"\n",
    "#datos_inec = \"/home/estudiante/Escritorio/proyecto3/datos_inec.xls\"\n",
    "\n",
    "#Ingresamos los datos de nuestra instancia de postgres, proyecto3 es el nombre de la base de datos\n",
    "POSTGRESQL_URL = \"jdbc:postgresql://localhost/proyecto3\"\n",
    "POSTGRESQL_USER = \"postgres\"\n",
    "POSTGRESQL_PASSWORD = \"postgres\"\n",
    "\n",
    "# Descripción: creo una sesion de spark para trabajar\n",
    "# Salida: La sesion de spark\n",
    "def create_spark_session():\n",
    "    \"\"\"\n",
    "    This function builds a Spark Session\n",
    "    return the main entry of a Spark DataFrame\n",
    "    \"\"\"\n",
    "    spark = SparkSession \\\n",
    "      .builder \\\n",
    "      .appName(\"Basic JDBC pipeline\") \\\n",
    "      .config(\"spark.driver.extraClassPath\", \"postgresql-42.1.4.jar\") \\\n",
    "      .config(\"spark.executor.extraClassPath\", \"postgresql-42.1.4.jar\") \\\n",
    "      .getOrCreate()\n",
    "    return spark\n",
    "\n",
    "#Creación de una session de spark\n",
    "spark = create_spark_session()\n",
    "\n",
    "print(\"Terminado correctamente\")"
   ]
  },
  {
   "cell_type": "markdown",
   "metadata": {},
   "source": [
    "## Leemos los archivos del censo y del oij"
   ]
  },
  {
   "cell_type": "code",
   "execution_count": 3,
   "metadata": {},
   "outputs": [
    {
     "name": "stdout",
     "output_type": "stream",
     "text": [
      "Terminado correctamente\n"
     ]
    }
   ],
   "source": [
    "#Con skiprow le indico que me lea de la fila numero 4 en adelante \n",
    "#y con usecols le indico el rango de columnas de mi interés, todo esto solo para los datos del censo\n",
    "xls_censo = pd.read_excel('datos_censo.xlsx', skiprows = 9, usecols=range(1,8))\n",
    "\n",
    "#Limpio el xls_censo quitandole las filas que están en blanco\n",
    "xls_censo = xls_censo.dropna()\n",
    "\n",
    "#Esto me cambia el nombre de las columnas de los datos del censo\n",
    "xls_censo.rename(columns={'Unnamed: 1':'provinciaCantonYDistrito',\n",
    "                          'Unnamed: 2':'población_de_15_años_y_más',\n",
    "                          'Unnamed: 3':'tasa_neta_de_participación',\n",
    "                          'Unnamed: 4':'tasa_de_ocupación',\n",
    "                          'Unnamed: 5':'tasa_de_desempleo_abierto',\n",
    "                          'Unnamed: 6':'porcentaje_de_población_económicamente_inactiva',\n",
    "                          'Unnamed: 7':'relación_de_dependencia_económica'},inplace=True)\n",
    "\n",
    "\n",
    "#Leemos los datos del oij\n",
    "xls_oij = pd.read_excel('datos_oij.xlsx')\n",
    "\n",
    "\n",
    "#Creamos los dataframe del oij y del censo\n",
    "dfPandas_censo = pd.DataFrame(xls_censo)\n",
    "dfPandas_oij = pd.DataFrame(xls_oij)\n",
    "\n",
    "#print(dfPandas_censo)\n",
    "#print(dfPandas_oij)\n",
    "#Defino el tipo de datos, que va a tener el datafame_censo de spark, porque si no me da error al crear el frame en spark\n",
    "mySchema = StructType([ StructField(\"provinciaCantonYDistrito\", StringType(), True)\\\n",
    "                       ,StructField(\"población_de_15_años_y_más\", FloatType(), True)\\\n",
    "                       ,StructField(\"tasa_neta_de_participación\", FloatType(), True)\\\n",
    "                       ,StructField(\"tasa_de_ocupación\", FloatType(), True)\\\n",
    "                       ,StructField(\"tasa_de_desempleo_abierto\", StringType(), True)\\\n",
    "                       ,StructField(\"porcentaje_de_población_económicamente_inactiva\", FloatType(), True)\\\n",
    "                       ,StructField(\"relación_de_dependencia_económica\", FloatType(), True)])\n",
    "\n",
    "# Creamos el spark dataframe\n",
    "df_censo = spark.createDataFrame(dfPandas_censo, schema=mySchema)\n",
    "df_oij = spark.createDataFrame(dfPandas_oij)\n",
    "\n",
    "#df_censo.show()\n",
    "\n",
    "print(\"Terminado correctamente\")"
   ]
  },
  {
   "cell_type": "markdown",
   "metadata": {},
   "source": [
    "## Función que elimine los espacios en blanco de la columna distrito para usarse en ambos conjuntos de datos."
   ]
  },
  {
   "cell_type": "code",
   "execution_count": 4,
   "metadata": {},
   "outputs": [
    {
     "name": "stdout",
     "output_type": "stream",
     "text": [
      "+----------------------------+\n",
      "|length_with_whitespace_censo|\n",
      "+----------------------------+\n",
      "|                           8|\n",
      "|                           8|\n",
      "|                          17|\n",
      "|                          15|\n",
      "|                          18|\n",
      "+----------------------------+\n",
      "only showing top 5 rows\n",
      "\n",
      "+--------------------------+\n",
      "|length_with_whitespace_oij|\n",
      "+--------------------------+\n",
      "|                        21|\n",
      "|                         9|\n",
      "|                         9|\n",
      "|                         8|\n",
      "|                         9|\n",
      "+--------------------------+\n",
      "only showing top 5 rows\n",
      "\n",
      "+-------------------------------+\n",
      "|length_without_whitespace_censo|\n",
      "+-------------------------------+\n",
      "|                              7|\n",
      "|                              7|\n",
      "|                              6|\n",
      "|                              6|\n",
      "|                              8|\n",
      "+-------------------------------+\n",
      "only showing top 5 rows\n",
      "\n",
      "+-----------------------------+\n",
      "|length_without_whitespace_oij|\n",
      "+-----------------------------+\n",
      "|                           18|\n",
      "|                            8|\n",
      "|                            8|\n",
      "|                            8|\n",
      "|                            8|\n",
      "+-----------------------------+\n",
      "only showing top 5 rows\n",
      "\n",
      "Terminado correctamente\n"
     ]
    }
   ],
   "source": [
    "#ESta funcion muestra el antes y el despues de aplicar la funcion de quitar los espacios dentro del censo\n",
    "\n",
    "# Descripción Muestra el largo de del contenido de una columna de un dataframe\n",
    "# Entrada: \n",
    "#   df: Dataframe a modificar la columna\n",
    "#   colum: nombre de la columna a modificar\n",
    "#   alias: alias de la columna nueva a mostrar\n",
    "#   cant: cantidad de elementos a mostrar y contar su contenido\n",
    "def mostrar_largo_celdas(df, colum, alias, cant):\n",
    "    df.select(length(col(colum)).alias(alias)).show(cant)\n",
    "\n",
    "    \n",
    "\n",
    "#Verifico que tengan los espacios en blanco\n",
    "mostrar_largo_celdas(df_censo, \"provinciaCantonYDistrito\", \"length_with_whitespace_censo\", 5)\n",
    "mostrar_largo_celdas(df_oij, \"Distrito\", \"length_with_whitespace_oij\", 5)\n",
    "\n",
    "\n",
    "# Descripción Elimina los espacios en blanco de una columna de un dataframe\n",
    "# Entradas:\n",
    "#   df: Dataframe a modificar la columna\n",
    "#   colum: nombre de la columna a modificar\n",
    "# Salida: El dataframe con la columna modificada\n",
    "def eliminar_espacios_en_blanco(df, colum):\n",
    "    df = df.withColumn(colum,quinn.remove_all_whitespace(col(colum)))\n",
    "    return df\n",
    "\n",
    "#Elimino los espacios    \n",
    "df_censo = eliminar_espacios_en_blanco(df_censo, \"provinciaCantonYDistrito\")\n",
    "df_oij = eliminar_espacios_en_blanco(df_oij, \"Distrito\")\n",
    "\n",
    "\n",
    "#Verifico que se eliminaron los espacios en blanco en las dos columnas(censo y oij) correctamente\n",
    "mostrar_largo_celdas(df_censo, \"provinciaCantonYDistrito\", \"length_without_whitespace_censo\", 5)\n",
    "mostrar_largo_celdas(df_oij, \"Distrito\", \"length_without_whitespace_oij\", 5)\n",
    "                  \n",
    "    \n",
    "#df_censo.show(10)\n",
    "print(\"Terminado correctamente\")"
   ]
  },
  {
   "cell_type": "markdown",
   "metadata": {},
   "source": [
    "## Una función que convierta a minúsculas el contenido de la columna distrito para usarse en ambos conjuntos de datos."
   ]
  },
  {
   "cell_type": "code",
   "execution_count": 5,
   "metadata": {},
   "outputs": [
    {
     "name": "stdout",
     "output_type": "stream",
     "text": [
      "+------------------------+\n",
      "|provinciaCantonYDistrito|\n",
      "+------------------------+\n",
      "|                 SanJosé|\n",
      "|                 SanJosé|\n",
      "|                  Carmen|\n",
      "|                  Merced|\n",
      "|                Hospital|\n",
      "+------------------------+\n",
      "only showing top 5 rows\n",
      "\n",
      "+------------------+\n",
      "|          Distrito|\n",
      "+------------------+\n",
      "|LLANOSDESANTALUCIA|\n",
      "|          SANPEDRO|\n",
      "|          SANPEDRO|\n",
      "|          HOSPITAL|\n",
      "|          TRESRIOS|\n",
      "+------------------+\n",
      "only showing top 5 rows\n",
      "\n",
      "+------------------------+\n",
      "|provinciaCantonYDistrito|\n",
      "+------------------------+\n",
      "|                 sanjosé|\n",
      "|                 sanjosé|\n",
      "|                  carmen|\n",
      "|                  merced|\n",
      "|                hospital|\n",
      "+------------------------+\n",
      "only showing top 5 rows\n",
      "\n",
      "+------------------+\n",
      "|          Distrito|\n",
      "+------------------+\n",
      "|llanosdesantalucia|\n",
      "|          sanpedro|\n",
      "|          sanpedro|\n",
      "|          hospital|\n",
      "|          tresrios|\n",
      "+------------------+\n",
      "only showing top 5 rows\n",
      "\n",
      "Terminado correctamente\n"
     ]
    }
   ],
   "source": [
    "# Descripción: Muestra los datos de una columna en un dataframe\n",
    "# Entradas:\n",
    "#   df: Dataframe a mostrar\n",
    "#   colum: nombre de la columna a mostrar\n",
    "#   alias: Alias de la columna del resultado\n",
    "#   cant: cantidad de elementos a mostrar\n",
    "def mostrar_datos_celdas(df, colum, alias, cant):\n",
    "    df.select(col(colum)).alias(alias).show(cant)\n",
    "    \n",
    "#Verifico que algunos datos estén con mayusculas\n",
    "mostrar_datos_celdas(df_censo, \"provinciaCantonYDistrito\", \"Dates_with_upperCase_censo\", 5)\n",
    "mostrar_datos_celdas(df_oij, \"Distrito\", \"Dates_with_upperCase_oij\", 5)\n",
    "\n",
    "# Descripción: Convierte los datos de una columna en un dataframe a minuscula\n",
    "# Entradas:\n",
    "#   df: Dataframe a modificar la columna\n",
    "#   colum: nombre de la columna a modificar\n",
    "# Salida: El dataframe con la columna modificada\n",
    "def convertir_celda_a_minuscula(df, colum):\n",
    "    df = df.withColumn(colum,lower(col(colum)))\n",
    "    return df\n",
    "# Convierto a minisculas las columnas \"provinciaCantonYDistrito\" y \"Distrito\" de los datos del OIJ y del INEC respectivamente\n",
    "df_censo = convertir_celda_a_minuscula(df_censo, \"provinciaCantonYDistrito\")\n",
    "df_oij = convertir_celda_a_minuscula(df_oij, \"Distrito\")\n",
    "\n",
    "# Muestro los datos para verificar que se realizó el cambio correctamente\n",
    "mostrar_datos_celdas(df_censo, \"provinciaCantonYDistrito\", \"Dates_without_upperCase_censo\", 5)\n",
    "mostrar_datos_celdas(df_oij, \"Distrito\", \"Dates_without_upperCase_oij\", 5)\n",
    "\n",
    "print(\"Terminado correctamente\")"
   ]
  },
  {
   "cell_type": "markdown",
   "metadata": {},
   "source": [
    "## Una función que devuelva la lista de distritos del conjunto de datos del OIJ que no coinciden con ningún distrito del conjunto de datos del Inec"
   ]
  },
  {
   "cell_type": "code",
   "execution_count": 6,
   "metadata": {},
   "outputs": [
    {
     "name": "stdout",
     "output_type": "stream",
     "text": [
      "+-----------+\n",
      "|   Distrito|\n",
      "+-----------+\n",
      "|  canonegro|\n",
      "|    rioazul|\n",
      "|       para|\n",
      "|      colon|\n",
      "|   guapiles|\n",
      "|    guacimo|\n",
      "|   canalete|\n",
      "|     puraba|\n",
      "|      cajon|\n",
      "|      drake|\n",
      "|      belen|\n",
      "|  sanandres|\n",
      "| reventazón|\n",
      "|    lalegua|\n",
      "|     granja|\n",
      "|canasdulces|\n",
      "|desconocido|\n",
      "|     jardin|\n",
      "|   rionuevo|\n",
      "|  laamistad|\n",
      "| sannicolas|\n",
      "|   tarcoles|\n",
      "|    alegria|\n",
      "|    patarra|\n",
      "| santamaria|\n",
      "|   leonxiii|\n",
      "|    caldera|\n",
      "|     cortes|\n",
      "|    palmera|\n",
      "| sanjoaquin|\n",
      "+-----------+\n",
      "only showing top 30 rows\n",
      "\n"
     ]
    }
   ],
   "source": [
    "# Descripción: Lista los distritos del conjunto de datos del OIJ que no coinciden con ningun conjunto de datos del INEC\n",
    "# Salida: Una tabla que contiene en la columna \"Distrito\" los datos del OIJ que no coinciden con los datos del INEC\n",
    "def listarDistritosDelOijSinCoincidenciasConCenso():    \n",
    "    #Realizo un lef join de los datos del oij con los datos del inec\n",
    "    left_join = df_oij.join(df_censo, df_oij.Distrito == df_censo.provinciaCantonYDistrito, how='left')\n",
    "    #Elimino los datos que son nulos que aparecieron con el left join\n",
    "    left_join = left_join.filter(df_censo.provinciaCantonYDistrito.isNull())\n",
    "    #Muestro los datos resultantes\n",
    "    left_join = left_join.select(col(\"Distrito\")).alias(\"Distritos\")\n",
    "    return left_join\n",
    "listarDistritosDelOijSinCoincidenciasConCenso().distinct().show(30)"
   ]
  },
  {
   "cell_type": "markdown",
   "metadata": {},
   "source": [
    "## Una función que devuelva la cantidad de registros en el conjunto de datos del OIJ que no coinciden con ningún distrito del conjunto de datos del Inec."
   ]
  },
  {
   "cell_type": "code",
   "execution_count": 7,
   "metadata": {},
   "outputs": [
    {
     "data": {
      "text/plain": [
       "4800"
      ]
     },
     "execution_count": 7,
     "metadata": {},
     "output_type": "execute_result"
    }
   ],
   "source": [
    "# Descripcion: Cuenta la cantidad de distritos en los datos del oij que no coinciden con los datos del INEC\n",
    "# Salida: Un numero que es la cantidad de distritos no coincidentes\n",
    "def cantidadDistritosDelOijSinCoincidenciasConCenso():\n",
    "    #Nada mas retorno la cantidad de datos de la funcion cantidadDistritosDelOijSinCoincidenciasConCenso\n",
    "    return listarDistritosDelOijSinCoincidenciasConCenso().count()\n",
    "cantidadDistritosDelOijSinCoincidenciasConCenso()"
   ]
  },
  {
   "cell_type": "markdown",
   "metadata": {},
   "source": [
    "## Edite, utilizando SparkSQL, los nombres de los distritos del Inec para que coincidan con algunos de los del OIJ. "
   ]
  },
  {
   "cell_type": "code",
   "execution_count": 8,
   "metadata": {},
   "outputs": [
    {
     "name": "stdout",
     "output_type": "stream",
     "text": [
      "+------------------+\n",
      "|          Distrito|\n",
      "+------------------+\n",
      "|          canalete|\n",
      "|             drake|\n",
      "|        reventazón|\n",
      "|           lalegua|\n",
      "|            granja|\n",
      "|       desconocido|\n",
      "|         laamistad|\n",
      "|           caldera|\n",
      "|            cortes|\n",
      "|           palmera|\n",
      "|sanjosedelamonta?a|\n",
      "|       santaisabel|\n",
      "|           general|\n",
      "|         horquetas|\n",
      "|             ceiba|\n",
      "|         cabeceras|\n",
      "|        elchirripo|\n",
      "|           mastate|\n",
      "|           fortuna|\n",
      "|          labrador|\n",
      "+------------------+\n",
      "only showing top 20 rows\n",
      "\n",
      "775\n",
      "Terminado correctamente\n"
     ]
    }
   ],
   "source": [
    "# Descripción: Quito los acentos y 'ñ' de los datos de una columna en un dataframe\n",
    "# Entrada:\n",
    "#   df: Dataframe a modificar la columna\n",
    "#   colum: nombre de la columna a modificar\n",
    "# Salida: El dataframe con la columna modificada\n",
    "def quitar_acentos(df, nombre_columna):\n",
    "    df= df.withColumn(nombre_columna, regexp_replace(nombre_columna, \"á\", \"a\"))\n",
    "    df= df.withColumn(nombre_columna, regexp_replace(nombre_columna, \"é\", \"e\"))\n",
    "    df= df.withColumn(nombre_columna, regexp_replace(nombre_columna, \"í\", \"i\"))\n",
    "    df= df.withColumn(nombre_columna, regexp_replace(nombre_columna, \"ó\", \"o\"))\n",
    "    df= df.withColumn(nombre_columna, regexp_replace(nombre_columna, \"ú\", \"u\"))\n",
    "    df= df.withColumn(nombre_columna, regexp_replace(nombre_columna, \"ñ\", \"n\"))\n",
    "    return df\n",
    "\n",
    "#Quito acentos y ñs de los datos del oij para que los datos calzen\n",
    "df_censo = quitar_acentos(df_censo, \"provinciaCantonYDistrito\")\n",
    "#df_oij = quitar_acentos(df_oij, \"Distrito\")\n",
    "\n",
    "#Observamos que ya son menos los archivos que no calzan\n",
    "listarDistritosDelOijSinCoincidenciasConCenso().distinct().show()\n",
    "print(cantidadDistritosDelOijSinCoincidenciasConCenso())\n",
    "\n",
    "\n",
    "#df_censo.toPandas().to_csv('df_censo.csv')\n",
    "#df_oij.toPandas().to_csv('df_oij.csv')\n",
    "print(\"Terminado correctamente\")"
   ]
  },
  {
   "cell_type": "markdown",
   "metadata": {},
   "source": [
    "# Guarde los datos limpios del Inec y del OIJ en una base de datos en PostgreSQL. "
   ]
  },
  {
   "cell_type": "code",
   "execution_count": 15,
   "metadata": {},
   "outputs": [
    {
     "name": "stdout",
     "output_type": "stream",
     "text": [
      "Terminado correctamente\n"
     ]
    }
   ],
   "source": [
    "# Descripción: Guarda los datos en PostgreSQL\n",
    "# Entradas:\n",
    "#   spark_df: Dataframe a guardar\n",
    "#   table_name: Nombre de la tabla donde se guardara en PostgreSQL\n",
    "def write_spark_df_to_db(spark_df, table_name):\n",
    "    \"\"\"\n",
    "    This function writes Spark dataframe to DB\n",
    "    \"\"\"\n",
    "    spark_df \\\n",
    "        .write \\\n",
    "        .format(\"jdbc\") \\\n",
    "        .mode('overwrite') \\\n",
    "        .option(\"url\", POSTGRESQL_URL) \\\n",
    "        .option(\"user\", POSTGRESQL_USER) \\\n",
    "        .option(\"password\", POSTGRESQL_PASSWORD) \\\n",
    "        .option(\"dbtable\", table_name) \\\n",
    "        .save()\n",
    "    \n",
    "write_spark_df_to_db(df_censo, \"Datos_censo\")\n",
    "write_spark_df_to_db(df_oij, \"Datos_oij\")\n",
    "\n",
    "print(\"Terminado correctamente\")"
   ]
  },
  {
   "cell_type": "markdown",
   "metadata": {},
   "source": [
    "# Visualización de datos. La visualización se realizará por medio del software Spark."
   ]
  },
  {
   "cell_type": "markdown",
   "metadata": {},
   "source": [
    "## 1. Compare la cantidad de delitos y la tasa de ocupación para los 10 distritos con más delitos en el país. "
   ]
  },
  {
   "cell_type": "code",
   "execution_count": 10,
   "metadata": {},
   "outputs": [
    {
     "name": "stdout",
     "output_type": "stream",
     "text": [
      "Terminado correctamente\n",
      "Comparación entre la cantidad de delitos y la tasa de ocupación de los 10 distritos con mas delitos\n"
     ]
    },
    {
     "data": {
      "image/png": "[encoded data removed]",
      "text/plain": [
       "<Figure size 432x288 with 1 Axes>"
      ]
     },
     "metadata": {
      "needs_background": "light"
     },
     "output_type": "display_data"
    }
   ],
   "source": [
    "# Esto es para probar en excel:\n",
    "#              =CONTAR.SI(L2:L34357; \"HEREDIA\")\n",
    "\n",
    "# Descripción: Gráfica una comparación entre la cantidad de delitos y la tasa de ocupación \n",
    "#              de los 10 distritos con mas delitos\n",
    "def grafico_1():\n",
    "    #GroupBy me agrupa los datos dependiendo de otra columna, el agg me los cuenta y el sort los ordena\n",
    "    eje_x = df_oij.groupby('Distrito').agg(count('Provincia').alias('Cantidad')).sort(desc(\"cantidad\"))\n",
    "    \n",
    "    #Le digo que me muestre solo las primeras 10 provincias, me brinco la primera porque es \"desconocido\"\n",
    "    eje_x = eje_x.collect()[1:11] \n",
    "\n",
    "    #El anterior paso me desconvierte el data frame, entonces lo vuelvo a convertir a spark\n",
    "    eje_x = spark.createDataFrame(eje_x)\n",
    "\n",
    "    #Muetro el resultado\n",
    "    #eje_x.show()\n",
    "\n",
    "\n",
    "\n",
    "    #Selecciono las columnas de mi interés\n",
    "    eje_y = df_censo.select('tasa_de_ocupación','provinciaCantonYDistrito')\n",
    "\n",
    "    #Realizo un join para unir los datos del eje_x y del eje_y, esto para tenerlos en una sola tabla\n",
    "    join_x_con_y = eje_x.join(eje_y,eje_x.Distrito == eje_y.provinciaCantonYDistrito)\n",
    "\n",
    "    #join_x_con_y.show()\n",
    "\n",
    "    #Esto para que me ordene de mayor a menor los porcentajes de tasa_de_ocupación\n",
    "    join_x_con_y = join_x_con_y.sort(desc(\"tasa_de_ocupación\"))\n",
    "\n",
    "    #Elimino los datos que están duplicados, producto del join\n",
    "    join_x_con_y = join_x_con_y.select('Distrito','Cantidad','tasa_de_ocupación').dropDuplicates(['Distrito']).orderBy('Cantidad', ascending=False)\n",
    "\n",
    "    #join_x_con_y.show()\n",
    "\n",
    "    #ESTO ES PARA El minimo y máximo del eje x,y.set(xlim=(xmin, xmax), ylim=(ymin, ymax))\n",
    "    #Rayas de fondo al grafico con .grid()\n",
    "    grafico1 = join_x_con_y.toPandas().plot(\"Distrito\",[\"tasa_de_ocupación\"], kind = 'bar')\n",
    "    \n",
    "    \n",
    "    \n",
    "\n",
    "#Muestro los datos de forma gráfica\n",
    "print(\"Terminado correctamente\")\n",
    "print(\"Comparación entre la cantidad de delitos y la tasa de ocupación de los 10 distritos con mas delitos\")\n",
    "grafico_1()"
   ]
  },
  {
   "cell_type": "markdown",
   "metadata": {},
   "source": [
    "## 2. Grafique la cantidad de delitos por día de la semana para el distrito con más delitos."
   ]
  },
  {
   "cell_type": "code",
   "execution_count": 11,
   "metadata": {},
   "outputs": [
    {
     "name": "stdout",
     "output_type": "stream",
     "text": [
      "Terminado correctamente\n",
      "Comparación entre la cantidad de delitos por dia de la semana para el distrito con más delitos.\n",
      "Distrito con más delitos: merced\n",
      "+-----------------+------------+\n",
      "|dias_de_la_semana|Cant_Delitos|\n",
      "+-----------------+------------+\n",
      "|          Viernes|          82|\n",
      "|           Sábado|          76|\n",
      "|            Lunes|          75|\n",
      "|        Miércoles|          72|\n",
      "|           Martes|          53|\n",
      "|          Domingo|          50|\n",
      "|           Jueves|          46|\n",
      "+-----------------+------------+\n",
      "\n"
     ]
    },
    {
     "data": {
      "image/png": "[encoded data removed]",
      "text/plain": [
       "<Figure size 432x288 with 1 Axes>"
      ]
     },
     "metadata": {
      "needs_background": "light"
     },
     "output_type": "display_data"
    }
   ],
   "source": [
    "# Descripción: Gráfica una comparación entre la cantidad de delitos por dia de la semana \n",
    "#              para el distrito con más delitos.\n",
    "def grafico_2():\n",
    "\n",
    "    #Pimero saco el distrito con mas delitos\n",
    "    distrito_mas_delitos = df_oij.groupby('Distrito').agg(count('Provincia').alias('Cantidad')).sort(desc(\"cantidad\"))\n",
    "    distrito_mas_delitos = distrito_mas_delitos.collect()[1:2] \n",
    "    distrito_mas_delitos = spark.createDataFrame(distrito_mas_delitos)\n",
    "    #distrito_mas_delitos.show()\n",
    "\n",
    "    #Nombre del distrito con más delitos\n",
    "    distrito = (distrito_mas_delitos.toPandas())['Distrito'][0]\n",
    "    \n",
    "    print(\"Distrito con más delitos: \"+ distrito)\n",
    "\n",
    "    #Elimino el rsto de distritos que no me interesan y los datos que no me interesan\n",
    "    delitos_distrito = df_oij.filter(df_oij['Distrito'] == distrito)\n",
    "\n",
    "\n",
    "    #Selecciono las columnas de mi interés\n",
    "    delitos_distrito = delitos_distrito.select('Distrito','Fecha', 'Delito')\n",
    "\n",
    "    #Agrego una nueva columna llaamada dias_de_la_semana que me va a agarra la fecha y va a convertirla\n",
    "    #a un dia de la semana\n",
    "    delitos_distrito = delitos_distrito.withColumn(\"dias_de_la_semana\", date_format(col(\"Fecha\"), \"EEEE\"))\n",
    "    #delitos_distrito.show()\n",
    "\n",
    "    #Cuento los delitos por día\n",
    "    #delitos_distrito = delitos_distrito.groupby('dias_de_la_semana').agg(count('Delito').alias('Cant_Delitos'))\n",
    "    #delitos_distrito.show()\n",
    "\n",
    "    #Muetro el gráfico con los datos solicitados\n",
    "    \n",
    "    nombre_columna = \"dias_de_la_semana\";\n",
    "    delitos_distrito = delitos_distrito.groupby('dias_de_la_semana').agg(count('Delito').alias('Cant_Delitos')).orderBy(desc(\"Cant_Delitos\"))\n",
    "    \n",
    "    # Convierte los dias de ingles a español\n",
    "    delitos_distrito = delitos_distrito.withColumn(nombre_columna,regexp_replace(nombre_columna, \"Monday\", \"Lunes\"))\n",
    "    delitos_distrito = delitos_distrito.withColumn(nombre_columna,regexp_replace(nombre_columna, \"Tuesday\", \"Martes\"))\n",
    "    delitos_distrito = delitos_distrito.withColumn(nombre_columna,regexp_replace(nombre_columna, \"Wednesday\", \"Miércoles\"))\n",
    "    delitos_distrito = delitos_distrito.withColumn(nombre_columna,regexp_replace(nombre_columna, \"Thursday\", \"Jueves\"))\n",
    "    delitos_distrito = delitos_distrito.withColumn(nombre_columna,regexp_replace(nombre_columna, \"Friday\", \"Viernes\"))\n",
    "    delitos_distrito = delitos_distrito.withColumn(nombre_columna,regexp_replace(nombre_columna, \"Saturday\", \"Sábado\"))\n",
    "    delitos_distrito = delitos_distrito.withColumn(nombre_columna,regexp_replace(nombre_columna, \"Sunday\", \"Domingo\"))\n",
    "    delitos_distrito.show()\n",
    "    \n",
    "    delitos_distrito.toPandas().plot(\"dias_de_la_semana\",\"Cant_Delitos\", kind = 'bar')#.set(ylim=(0,200))\n",
    "\n",
    "print(\"Terminado correctamente\")\n",
    "print(\"Comparación entre la cantidad de delitos por dia de la semana para el distrito con más delitos.\")\n",
    "grafico_2()"
   ]
  },
  {
   "cell_type": "markdown",
   "metadata": {},
   "source": [
    "## 3. Grafique la cantidad de delitos por tipo y por distrito. Es decir, para el distrito seleccionado se debe graficar la cantidad de delitos por tipo"
   ]
  },
  {
   "cell_type": "code",
   "execution_count": 12,
   "metadata": {},
   "outputs": [
    {
     "name": "stdout",
     "output_type": "stream",
     "text": [
      "Terminado correctamente\n",
      "Cantidad de delitos por tipo del distrito de San José\n",
      "Distrito de: sanjose\n"
     ]
    },
    {
     "data": {
      "image/png": "[encoded data removed]",
      "text/plain": [
       "<Figure size 432x288 with 1 Axes>"
      ]
     },
     "metadata": {
      "needs_background": "light"
     },
     "output_type": "display_data"
    }
   ],
   "source": [
    "# Descripción: Quito los acentos, 'ñ' y convierto a minuscula los datos de una columna en un dataframe\n",
    "# Entrada:\n",
    "#   df: Dataframe a modificar\n",
    "#   colum: nombre de la columna a modificar\n",
    "# Salida: El dataframe con la columna modificada\n",
    "def convertir_palabra(palabra):\n",
    "    palabra = palabra.lower()\n",
    "    palabra = palabra.replace(' ','')\n",
    "    palabra = palabra.replace('á', 'a')\n",
    "    palabra = palabra.replace('é', 'e')\n",
    "    palabra = palabra.replace('í', 'i')\n",
    "    palabra = palabra.replace('ó', 'o')\n",
    "    palabra = palabra.replace('ú', 'u')\n",
    "    return palabra\n",
    "# Descripción: Gráfica la cantidad de delitos por tipo de un distrito\n",
    "# Entradas:\n",
    "#   nombre_distrito: nombre del distrito a mostrar la cantidad de delitos por tipo\n",
    "def grafico_3(nombre_distrito):\n",
    "    #Limpio el nombre del distrito\n",
    "    nombre_distrito = convertir_palabra(nombre_distrito)\n",
    "    print(\"Distrito de: \"+nombre_distrito)\n",
    "    #Saco todos los datos que coincidan con el distrito \n",
    "    delitos_por_distrito = df_oij.filter(df_oij.Distrito == nombre_distrito)\n",
    "\n",
    "    #Cuento los delistos dependiendo del tpo, dentro de ese distrito\n",
    "    delitos_por_tipo = delitos_por_distrito.groupby('Delito').agg(count('Delito').alias('Cant_Delitos')).orderBy(desc(\"Cant_Delitos\"))\n",
    "\n",
    "    #Muestro los datos\n",
    "    delitos_por_tipo.toPandas().plot(\"Delito\",\"Cant_Delitos\", kind = 'bar')\n",
    "\n",
    "print(\"Terminado correctamente\")\n",
    "print(\"Cantidad de delitos por tipo del distrito de San José\")\n",
    "grafico_3('san jose')"
   ]
  },
  {
   "cell_type": "markdown",
   "metadata": {},
   "source": [
    "## 4. Grafique la cantidad de delitos por sexo para todo el conjunto de datos."
   ]
  },
  {
   "cell_type": "code",
   "execution_count": 13,
   "metadata": {},
   "outputs": [
    {
     "name": "stdout",
     "output_type": "stream",
     "text": [
      "Terminado correctamente\n",
      "Cantidad de delitos por sexo\n"
     ]
    },
    {
     "data": {
      "image/png": "[encoded data removed]",
      "text/plain": [
       "<Figure size 432x288 with 1 Axes>"
      ]
     },
     "metadata": {
      "needs_background": "light"
     },
     "output_type": "display_data"
    }
   ],
   "source": [
    "# Descripción: Gráfica la cantidad de delitos por sexo para todo el conjunto de datos\n",
    "def grafico_4():\n",
    "    #Aqui nada más cuento la cantidad de delitos que hay por generos\n",
    "    delitos_por_genero = df_oij.groupby('Genero').agg(count('Delito').alias('Cant_Delitos')).orderBy(desc('Cant_Delitos'))\n",
    "    delitos_por_genero.toPandas().plot(\"Genero\",\"Cant_Delitos\", kind = 'bar')\n",
    "print(\"Terminado correctamente\")\n",
    "print(\"Cantidad de delitos por sexo\")\n",
    "grafico_4()"
   ]
  },
  {
   "cell_type": "markdown",
   "metadata": {},
   "source": [
    "## 5. Proponga una visualización de su interés."
   ]
  },
  {
   "cell_type": "code",
   "execution_count": 14,
   "metadata": {},
   "outputs": [
    {
     "name": "stdout",
     "output_type": "stream",
     "text": [
      "Terminado correctamente\n",
      "Los 10 distritos con más Asaltos y su cantidades\n"
     ]
    },
    {
     "data": {
      "image/png": "[encoded data removed]",
      "text/plain": [
       "<Figure size 432x288 with 1 Axes>"
      ]
     },
     "metadata": {
      "needs_background": "light"
     },
     "output_type": "display_data"
    }
   ],
   "source": [
    "# Descripción: Gráfica los 10 distritos con mas Asaltos\n",
    "def grafico_5():\n",
    "    asaltos = df_oij.filter(df_oij.Delito == \"ASALTO\")\n",
    "\n",
    "    #Cuento los delistos dependiendo del tpo, dentro de ese distrito\n",
    "    delitos_por_distrito = asaltos.groupby('Distrito').agg(count('Distrito').alias('Cant de Asaltos')).orderBy(desc(\"Cant de Asaltos\"))\n",
    "    \n",
    "    delitos_por_distrito = delitos_por_distrito.collect()[1:11] \n",
    "\n",
    "    #El anterior paso me desconvierte el data frame, entonces lo vuelvo a convertir a spark\n",
    "    delitos_por_distrito = spark.createDataFrame(delitos_por_distrito)\n",
    "    \n",
    "    delitos_por_distrito.toPandas().plot(\"Distrito\",\"Cant de Asaltos\", kind = 'bar')\n",
    "    #eje_x.show()\n",
    "print(\"Terminado correctamente\")\n",
    "print(\"Los 10 distritos con más Asaltos y su cantidades\")\n",
    "grafico_5()\n"
   ]
  },
  {
   "cell_type": "markdown",
   "metadata": {},
   "source": [
    "# Conclusiones\n",
    "- Basado en la información proporcionada por el primer gráfico, se concluye que hay una relación en la cantidad de delitos dento de un distrito, deacuerdo a la taza de ocupación del mismo. Lo anterior significa que mientras más baja la taza de desocupación, mas alta es la cantidad de delitos.\n",
    "\n",
    "- Del gráfico número dos se concluye que en el distrito con más delitos, que en este caso es hospital, el día donde hay mas altercados de estos son los sábados.\n",
    "\n",
    "- Del gráfico número cuatro se concluye que la mayoría de delitos son realizados por personas mayores de edad.\n",
    "\n",
    "- Del gráfico número cinco, se concluye que la mayor cantidad de delitos de asaltos en el distrito de Pavas."
   ]
  },
  {
   "cell_type": "markdown",
   "metadata": {},
   "source": [
    "# Referencias\n",
    "\n",
    "Instituto Nacional de Estadísticas y Censos (2011). Censo 2011: Indicadores\n",
    "económicos, según provincia, cantón y distrito. Recuperado de\n",
    "http://inec.cr/documento/censo-2011-indicadores-economicos-segun-provincia-canton-ydistrito\n",
    "\n",
    "Organismo de Investigación Judicial (2018). Estadísticas poiciales. Recuperado de\n",
    "https://sitiooij.poder-judicial.go.cr/index.php/apertura/transparencia/estadisticas-policiales\n",
    "\n",
    "Spark Groupby Example with DataFrame. Recuperado de\n",
    "https://sparkbyexamples.com/spark/using-groupby-on-dataframe/"
   ]
  },
  {
   "cell_type": "code",
   "execution_count": null,
   "metadata": {},
   "outputs": [],
   "source": []
  }
 ],
 "metadata": {
  "kernelspec": {
   "display_name": "Python 3",
   "language": "python",
   "name": "python3"
  },
  "language_info": {
   "codemirror_mode": {
    "name": "ipython",
    "version": 3
   },
   "file_extension": ".py",
   "mimetype": "text/x-python",
   "name": "python",
   "nbconvert_exporter": "python",
   "pygments_lexer": "ipython3",
   "version": "3.9.4"
  }
 },
 "nbformat": 4,
 "nbformat_minor": 4
}
